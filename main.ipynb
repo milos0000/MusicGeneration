{
 "cells": [
  {
   "cell_type": "code",
   "execution_count": 1,
   "id": "34fbb1e3",
   "metadata": {
    "id": "34fbb1e3"
   },
   "outputs": [
    {
     "name": "stderr",
     "output_type": "stream",
     "text": [
      "2023-04-10 23:23:00.618606: I tensorflow/core/platform/cpu_feature_guard.cc:193] This TensorFlow binary is optimized with oneAPI Deep Neural Network Library (oneDNN) to use the following CPU instructions in performance-critical operations:  AVX2 FMA\n",
      "To enable them in other operations, rebuild TensorFlow with the appropriate compiler flags.\n",
      "2023-04-10 23:23:01.032219: W tensorflow/compiler/xla/stream_executor/platform/default/dso_loader.cc:64] Could not load dynamic library 'libcudart.so.11.0'; dlerror: libcudart.so.11.0: cannot open shared object file: No such file or directory\n",
      "2023-04-10 23:23:01.032268: I tensorflow/compiler/xla/stream_executor/cuda/cudart_stub.cc:29] Ignore above cudart dlerror if you do not have a GPU set up on your machine.\n",
      "2023-04-10 23:23:02.615797: W tensorflow/compiler/xla/stream_executor/platform/default/dso_loader.cc:64] Could not load dynamic library 'libnvinfer.so.7'; dlerror: libnvinfer.so.7: cannot open shared object file: No such file or directory\n",
      "2023-04-10 23:23:02.615980: W tensorflow/compiler/xla/stream_executor/platform/default/dso_loader.cc:64] Could not load dynamic library 'libnvinfer_plugin.so.7'; dlerror: libnvinfer_plugin.so.7: cannot open shared object file: No such file or directory\n",
      "2023-04-10 23:23:02.615999: W tensorflow/compiler/tf2tensorrt/utils/py_utils.cc:38] TF-TRT Warning: Cannot dlopen some TensorRT libraries. If you would like to use Nvidia GPU with TensorRT, please make sure the missing libraries mentioned above are installed properly.\n"
     ]
    }
   ],
   "source": [
    "from music21 import *\n",
    "import tensorflow\n",
    "import sys\n",
    "import os\n",
    "import IPython\n",
    "from keras.models import Sequential\n",
    "from keras.layers import Dense,LSTM,Dropout\n",
    "import keras\n",
    "from sklearn.metrics import mean_squared_error\n",
    "import numpy as np\n",
    "from sklearn.preprocessing import OneHotEncoder\n",
    "import random"
   ]
  },
  {
   "cell_type": "code",
   "execution_count": 2,
   "id": "e3074d81",
   "metadata": {
    "id": "e3074d81"
   },
   "outputs": [],
   "source": [
    "environment.set('musescoreDirectPNGPath', '../.local/bin/MuseScore-4.0.1.230121751-x86_64.AppImage')"
   ]
  },
  {
   "cell_type": "code",
   "execution_count": 3,
   "id": "afb77745",
   "metadata": {
    "id": "afb77745"
   },
   "outputs": [],
   "source": [
    "filepath = \"dataset/\""
   ]
  },
  {
   "cell_type": "code",
   "execution_count": 5,
   "id": "faefff0c",
   "metadata": {
    "colab": {
     "base_uri": "https://localhost:8080/"
    },
    "id": "faefff0c",
    "outputId": "203a5bc5-9820-4d1f-b48c-df3d0fcefe8c"
   },
   "outputs": [],
   "source": [
    "train_midis= []\n",
    "test_midis = []\n",
    "names = []\n",
    "j = 0\n",
    "for i in os.listdir(filepath):\n",
    "    if i.endswith(\".mid\"):\n",
    "        tr = filepath + i\n",
    "        names.append(tr)\n",
    "        midi = converter.parse(tr)\n",
    "        if j < 800: \n",
    "            train_midis.append(midi)\n",
    "        else:\n",
    "            test_midis.append(midi)\n",
    "        j+=1\n",
    "\n",
    "        "
   ]
  },
  {
   "cell_type": "code",
   "execution_count": 12,
   "id": "26c2089d",
   "metadata": {
    "id": "26c2089d"
   },
   "outputs": [],
   "source": [
    "def extract_notes(files):\n",
    "    notes = []\n",
    "    pick = None\n",
    "    for f in files:\n",
    "        #songs = instrument.partitionByInstrument(f)\n",
    "        for part in f.parts:\n",
    "            pick = part.recurse()\n",
    "            for element in pick:\n",
    "                if isinstance(element, note.Note):\n",
    "                    notes.append(str(element.pitch))\n",
    "\n",
    "    return notes\n",
    "#Getting the list of notes as Corpus\n",
    "Corpus_train= np.array(extract_notes(train_midis))\n",
    "Corpus_test= np.array(extract_notes(test_midis))\n",
    "Corpus_train = np.reshape(Corpus_train, (len(Corpus_train), 1))\n",
    "Corpus_test = np.reshape(Corpus_test, (len(Corpus_test), 1))\n",
    "\n",
    "all_midis = train_midis + test_midis\n",
    "Corpus_all = np.array(extract_notes(all_midis))\n",
    "Corpus_all = np.reshape(Corpus_all, (len(Corpus_all), 1))"
   ]
  },
  {
   "cell_type": "code",
   "execution_count": 13,
   "id": "cd5f9adc",
   "metadata": {
    "colab": {
     "base_uri": "https://localhost:8080/"
    },
    "id": "cd5f9adc",
    "outputId": "05793b60-32b3-4bcd-adc1-dea0bf7dbb93"
   },
   "outputs": [],
   "source": [
    "# Initialize OneHotEncoder object\n",
    "encoder = OneHotEncoder()\n",
    "\n",
    "# Fit and transform the data\n",
    "encoder.fit(Corpus_all)\n",
    "one_hot_data_train = encoder.transform(Corpus_train)\n",
    "\n",
    "# Convert sparse matrix to array\n",
    "one_hot_data_train = one_hot_data_train.toarray()\n",
    "\n",
    "one_hot_data_test = encoder.transform(Corpus_test)\n",
    "one_hot_data_test = one_hot_data_test.toarray()\n",
    "\n"
   ]
  },
  {
   "cell_type": "code",
   "execution_count": 14,
   "id": "879d620d",
   "metadata": {
    "id": "879d620d"
   },
   "outputs": [],
   "source": [
    "input_len = 16"
   ]
  },
  {
   "cell_type": "code",
   "execution_count": 15,
   "id": "f5196b42",
   "metadata": {
    "id": "f5196b42"
   },
   "outputs": [],
   "source": [
    "def getXy(data, step):\n",
    "    y_ind = np.arange(step, len(data), step)\n",
    "    y = data[y_ind]\n",
    "    rows_x = len(y)\n",
    "    X = data[range(rows_x * step)]\n",
    "    X = np.reshape(X, (rows_x, step, data.shape[1]))\n",
    "    return X, y"
   ]
  },
  {
   "cell_type": "code",
   "execution_count": 16,
   "id": "8516548b",
   "metadata": {
    "id": "8516548b"
   },
   "outputs": [],
   "source": [
    "X_train, y_train = getXy(one_hot_data_train, input_len)\n",
    "X_test, y_test = getXy(one_hot_data_test, input_len)"
   ]
  },
  {
   "cell_type": "code",
   "execution_count": 17,
   "id": "9b0d6985",
   "metadata": {
    "id": "9b0d6985"
   },
   "outputs": [],
   "source": [
    "def create_RNN(hidden_units, dense_units, input_shape, activation):\n",
    "    model = Sequential()\n",
    "    model.add(LSTM(hidden_units, input_shape=input_shape))\n",
    "    model.add(Dropout(0.25))\n",
    "    model.add(Dense(units=dense_units))\n",
    "    model.add(Dense(units=one_hot_data_train.shape[1], activation='softmax'))\n",
    "    model.compile(loss=tensorflow.losses.CategoricalCrossentropy(), optimizer='adam')\n",
    "    return model"
   ]
  },
  {
   "cell_type": "code",
   "execution_count": 18,
   "id": "692fe227",
   "metadata": {
    "id": "692fe227"
   },
   "outputs": [
    {
     "name": "stderr",
     "output_type": "stream",
     "text": [
      "2023-04-10 23:42:42.037977: W tensorflow/compiler/xla/stream_executor/platform/default/dso_loader.cc:64] Could not load dynamic library 'libcuda.so.1'; dlerror: libcuda.so.1: cannot open shared object file: No such file or directory\n",
      "2023-04-10 23:42:42.038782: W tensorflow/compiler/xla/stream_executor/cuda/cuda_driver.cc:265] failed call to cuInit: UNKNOWN ERROR (303)\n",
      "2023-04-10 23:42:42.038942: I tensorflow/compiler/xla/stream_executor/cuda/cuda_diagnostics.cc:156] kernel driver does not appear to be running on this host (milos): /proc/driver/nvidia/version does not exist\n",
      "2023-04-10 23:42:42.042173: I tensorflow/core/platform/cpu_feature_guard.cc:193] This TensorFlow binary is optimized with oneAPI Deep Neural Network Library (oneDNN) to use the following CPU instructions in performance-critical operations:  AVX2 FMA\n",
      "To enable them in other operations, rebuild TensorFlow with the appropriate compiler flags.\n",
      "2023-04-10 23:42:42.197985: W tensorflow/tsl/framework/cpu_allocator_impl.cc:82] Allocation of 16777216 exceeds 10% of free system memory.\n",
      "2023-04-10 23:42:42.255345: W tensorflow/tsl/framework/cpu_allocator_impl.cc:82] Allocation of 16777216 exceeds 10% of free system memory.\n",
      "2023-04-10 23:42:42.264219: W tensorflow/tsl/framework/cpu_allocator_impl.cc:82] Allocation of 16777216 exceeds 10% of free system memory.\n",
      "2023-04-10 23:42:42.287675: W tensorflow/tsl/framework/cpu_allocator_impl.cc:82] Allocation of 16777216 exceeds 10% of free system memory.\n",
      "2023-04-10 23:42:43.852898: W tensorflow/tsl/framework/cpu_allocator_impl.cc:82] Allocation of 16777216 exceeds 10% of free system memory.\n"
     ]
    }
   ],
   "source": [
    "model = create_RNN(1024, 328, input_shape=(input_len, one_hot_data_train.shape[1]), activation=['softmax', 'softmax'])"
   ]
  },
  {
   "cell_type": "code",
   "execution_count": 19,
   "id": "e2f39916",
   "metadata": {
    "colab": {
     "base_uri": "https://localhost:8080/"
    },
    "id": "e2f39916",
    "outputId": "89a6f126-45bd-45ec-ed25-e212627cd878"
   },
   "outputs": [
    {
     "name": "stdout",
     "output_type": "stream",
     "text": [
      "Model: \"sequential\"\n",
      "_________________________________________________________________\n",
      " Layer (type)                Output Shape              Param #   \n",
      "=================================================================\n",
      " lstm (LSTM)                 (None, 1024)              4423680   \n",
      "                                                                 \n",
      " dropout (Dropout)           (None, 1024)              0         \n",
      "                                                                 \n",
      " dense (Dense)               (None, 328)               336200    \n",
      "                                                                 \n",
      " dense_1 (Dense)             (None, 55)                18095     \n",
      "                                                                 \n",
      "=================================================================\n",
      "Total params: 4,777,975\n",
      "Trainable params: 4,777,975\n",
      "Non-trainable params: 0\n",
      "_________________________________________________________________\n"
     ]
    }
   ],
   "source": [
    "model.summary()"
   ]
  },
  {
   "cell_type": "code",
   "execution_count": 20,
   "id": "2248f9af",
   "metadata": {
    "colab": {
     "base_uri": "https://localhost:8080/"
    },
    "id": "2248f9af",
    "outputId": "aebb409c-e2ee-4b7e-e704-3e6ab5907c8a"
   },
   "outputs": [
    {
     "name": "stdout",
     "output_type": "stream",
     "text": [
      "Epoch 1/25\n",
      "571/571 [==============================] - 245s 423ms/step - loss: 2.3779\n",
      "Epoch 2/25\n",
      "571/571 [==============================] - 237s 415ms/step - loss: 2.1087\n",
      "Epoch 3/25\n",
      "571/571 [==============================] - 244s 428ms/step - loss: 2.0565\n",
      "Epoch 4/25\n",
      "571/571 [==============================] - 245s 430ms/step - loss: 2.0167\n",
      "Epoch 5/25\n",
      "571/571 [==============================] - 245s 429ms/step - loss: 1.9832\n",
      "Epoch 6/25\n",
      "571/571 [==============================] - 241s 423ms/step - loss: 1.9493\n",
      "Epoch 7/25\n",
      "571/571 [==============================] - 245s 429ms/step - loss: 1.9279\n",
      "Epoch 8/25\n",
      "571/571 [==============================] - 245s 429ms/step - loss: 1.9006\n",
      "Epoch 9/25\n",
      "571/571 [==============================] - 243s 425ms/step - loss: 1.8764\n",
      "Epoch 10/25\n",
      "571/571 [==============================] - 252s 441ms/step - loss: 1.8407\n",
      "Epoch 11/25\n",
      "571/571 [==============================] - 253s 443ms/step - loss: 1.7979\n",
      "Epoch 12/25\n",
      "571/571 [==============================] - 251s 440ms/step - loss: 1.7506\n",
      "Epoch 13/25\n",
      "571/571 [==============================] - 249s 436ms/step - loss: 1.6920\n",
      "Epoch 14/25\n",
      "571/571 [==============================] - 245s 429ms/step - loss: 1.6061\n",
      "Epoch 15/25\n",
      "571/571 [==============================] - 245s 429ms/step - loss: 1.4997\n",
      "Epoch 16/25\n",
      "571/571 [==============================] - 249s 436ms/step - loss: 1.3613\n",
      "Epoch 17/25\n",
      "571/571 [==============================] - 245s 430ms/step - loss: 1.1874\n",
      "Epoch 18/25\n",
      "571/571 [==============================] - 247s 432ms/step - loss: 0.9858\n",
      "Epoch 19/25\n",
      "571/571 [==============================] - 247s 432ms/step - loss: 0.7739\n",
      "Epoch 20/25\n",
      "571/571 [==============================] - 249s 435ms/step - loss: 0.5880\n",
      "Epoch 21/25\n",
      "571/571 [==============================] - 256s 448ms/step - loss: 0.4275\n",
      "Epoch 22/25\n",
      "571/571 [==============================] - 250s 438ms/step - loss: 0.3388\n",
      "Epoch 23/25\n",
      "571/571 [==============================] - 261s 457ms/step - loss: 0.2650\n",
      "Epoch 24/25\n",
      "571/571 [==============================] - 246s 431ms/step - loss: 0.2190\n",
      "Epoch 25/25\n",
      "571/571 [==============================] - 255s 447ms/step - loss: 0.1815\n"
     ]
    },
    {
     "data": {
      "text/plain": [
       "<keras.callbacks.History at 0x7fa4e14d7760>"
      ]
     },
     "execution_count": 20,
     "metadata": {},
     "output_type": "execute_result"
    }
   ],
   "source": [
    "model.fit(X_train, y_train, epochs=25)"
   ]
  },
  {
   "cell_type": "code",
   "execution_count": 21,
   "id": "8794072d",
   "metadata": {},
   "outputs": [
    {
     "name": "stdout",
     "output_type": "stream",
     "text": [
      "79/79 [==============================] - 8s 87ms/step - loss: 5.2391\n"
     ]
    },
    {
     "data": {
      "text/plain": [
       "5.239070415496826"
      ]
     },
     "execution_count": 21,
     "metadata": {},
     "output_type": "execute_result"
    }
   ],
   "source": [
    "model.evaluate(X_test, y_test)"
   ]
  },
  {
   "cell_type": "code",
   "execution_count": 22,
   "id": "d5274695",
   "metadata": {
    "id": "d5274695"
   },
   "outputs": [],
   "source": [
    "model.save('mg_model.h5')"
   ]
  },
  {
   "cell_type": "code",
   "execution_count": 23,
   "id": "DG2oYbLI21Nd",
   "metadata": {
    "id": "DG2oYbLI21Nd"
   },
   "outputs": [],
   "source": [
    "#currently not used\n",
    "scales_with_5th = {\n",
    "  \"c-major\": ['A4', 'B4', 'C4', 'D4', 'E4', 'F4', 'G4', 'A5', 'B5', 'C5', 'D5', 'E5', 'F5', 'G5'],\n",
    "  \"c#-major\" : ['A#4', 'C4', 'C#4', 'D#4', 'F4', 'F#4', 'G#4', 'A#5', 'C5', 'C#5', 'D#5', 'F5', 'F#5', 'G#5'],\n",
    "  \"d-major\": ['B4', 'C#4', 'D4', 'E4', 'F#4', 'G4', 'A4', 'B5', 'C#5', 'D5', 'E5', 'F#5', 'G5', 'A5'],\n",
    "  \"d#-major\": ['C4', 'D4', 'D#4', 'F4', 'G4', 'G#4', 'A#4', 'C5', 'D5', 'D#5', 'F5', 'G5', 'G#5', 'A#5'],\n",
    "  \"e-major\": ['C#4', 'D#4', 'E4', 'F#4', 'G#4', 'A4', 'B4', 'C#5', 'D#5', 'E5', 'F#5', 'G#5', 'A5', 'B5'],\n",
    "  \"f-major\": ['D4', 'E4', 'F4', 'G4', 'A4', 'A#4', 'C4','D5', 'E5', 'F5', 'G5', 'A5', 'A#5', 'C5'],\n",
    "  \"f#-major\": ['D#4', 'F4', 'F#4', 'G#4', 'A#4', 'B4', 'C#4', 'D#5', 'F5', 'F#5', 'G#5', 'A#5', 'B5', 'C#5'],\n",
    "  \"g-major\": ['E4', 'F#4', 'G4', 'A4', 'B4', 'C4', 'D4', 'E5', 'F#5', 'G5', 'A5', 'B5', 'C5', 'D5'],\n",
    "  \"g#-major\": ['F4', 'G4', 'G#4', 'A#4', 'C4', 'C#4', 'D#4', 'F5', 'G5', 'G#5', 'A#5', 'C5', 'C#5', 'D#5'],\n",
    "  \"a-major\": ['F#4', 'G#4', 'A4', 'B4', 'C#4', 'D4', 'E4', 'F#5', 'G#5', 'A5', 'B5', 'C#5', 'D5', 'E5'],\n",
    "  \"a#-major\": ['G4', 'A4', 'A#4', 'C4', 'D4', 'D#4', 'F4', 'G5', 'A5', 'A#5', 'C5', 'D5', 'D#5', 'F5'],\n",
    "  \"b-major\": ['G#4', 'A#4', 'B4', 'C#4', 'D#4', 'E4', 'F#4', 'G#5', 'A#5', 'B5', 'C#5', 'D#5', 'E5', 'F#5'],\n",
    "  \n",
    "  \"a-minor\": ['A4', 'B4', 'C4', 'D4', 'E4', 'F4', 'G4', 'A5', 'B5', 'C5', 'D5', 'E5', 'F5', 'G5'],\n",
    "  \"a#-minor\" : ['A#4', 'C4', 'C#4', 'D#4', 'F4', 'F#4', 'G#4', 'A#5', 'C5', 'C#5', 'D#5', 'F5', 'F#5', 'G#5'],\n",
    "  \"b-minor\": ['B4', 'C#4', 'D4', 'E4', 'F#4', 'G4', 'A4', 'B5', 'C#5', 'D5', 'E5', 'F#5', 'G5', 'A5'],\n",
    "  \"c-minor\": ['C4', 'D4', 'D#4', 'F4', 'G4', 'G#4', 'A#4', 'C5', 'D5', 'D#5', 'F5', 'G5', 'G#5', 'A#5'],\n",
    "  \"c#-minor\": ['C#4', 'D#4', 'E4', 'F#4', 'G#4', 'A4', 'B4', 'C#5', 'D#5', 'E5', 'F#5', 'G#5', 'A5', 'B5'],\n",
    "  \"d-minor\": ['D4', 'E4', 'F4', 'G4', 'A4', 'A#4', 'C4','D5', 'E5', 'F5', 'G5', 'A5', 'A#5', 'C5', '5.9.0','9.0.4'],\n",
    "  \"d#-minor\": ['D#4', 'F4', 'F#4', 'G#4', 'A#4', 'B4', 'C#4', 'D#5', 'F5', 'F#5', 'G#5', 'A#5', 'B5', 'C#5'],\n",
    "  \"e-minor\": ['E4', 'F#4', 'G4', 'A4', 'B4', 'C4', 'D4', 'E5', 'F#5', 'G5', 'A5', 'B5', 'C5', 'D5'],\n",
    "  \"f-minor\": ['F4', 'G4', 'G#4', 'A#4', 'C4', 'C#4', 'D#4', 'F5', 'G5', 'G#5', 'A#5', 'C5', 'C#5', 'D#5'],\n",
    "  \"f#-minor\": ['F#4', 'G#4', 'A4', 'B4', 'C#4', 'D4', 'E4', 'F#5', 'G#5', 'A5', 'B5', 'C#5', 'D5', 'E5'],\n",
    "  \"g-minor\": ['G4', 'A4', 'A#4', 'C4', 'D4', 'D#4', 'F4', 'G5', 'A5', 'A#5', 'C5', 'D5', 'D#5', 'F5'],\n",
    "  \"g#-minor\": ['G#4', 'A#4', 'B4', 'C#4', 'D#4', 'E4', 'F#4', 'G#5', 'A#5', 'B5', 'C#5', 'D#5', 'E5', 'F#5'],\n",
    "}\n"
   ]
  },
  {
   "cell_type": "code",
   "execution_count": 24,
   "id": "36c7f10d",
   "metadata": {},
   "outputs": [],
   "source": [
    "scales = {\n",
    "  \"c-major\": ['A4', 'B4', 'C4', 'D4', 'E4', 'F4', 'G4'],\n",
    "  \"c#-major\" : ['B-4', 'C4', 'C#4', 'E-4', 'F4', 'F#4', 'G#4'],\n",
    "  \"d-major\": ['B4', 'C#4', 'D4', 'E4', 'F#4', 'G4', 'A4'],\n",
    "  \"e--major\": ['C4', 'D4', 'E-4', 'F4', 'G4', 'G#4', 'B-4'],\n",
    "  \"e-major\": ['C#4', 'E-4', 'E4', 'F#4', 'G#4', 'A4', 'B4'],\n",
    "  \"f-major\": ['D4', 'E4', 'F4', 'G4', 'A4', 'B-4', 'C4'],\n",
    "  \"f#-major\": ['E-4', 'F4', 'F#4', 'G#4', 'B-4', 'B4', 'C#4'],\n",
    "  \"g-major\": ['E4', 'F#4', 'G4', 'A4', 'B4', 'C4', 'D4'],\n",
    "  \"g#-major\": ['F4', 'G4', 'G#4', 'B-4', 'C4', 'C#4', 'E-4'],\n",
    "  \"a-major\": ['F#4', 'G#4', 'A4', 'B4', 'C#4', 'D4', 'E4'],\n",
    "  \"b--major\": ['G4', 'A4', 'B-4', 'C4', 'D4', 'E-4', 'F4'],\n",
    "  \"b-major\": ['G#4', 'B-4', 'B4', 'C#4', 'E-4', 'E4', 'F#4'],\n",
    "  \n",
    "  \"a-minor\": ['A4', 'B4', 'C4', 'D4', 'E4', 'F4', 'G4'],\n",
    "  \"b--minor\" : ['B-4', 'C4', 'C#4', 'E-4', 'F4', 'F#4', 'G#4'],\n",
    "  \"b-minor\": ['B4', 'C#4', 'D4', 'E4', 'F#4', 'G4', 'A4'],\n",
    "  \"c-minor\": ['C4', 'D4', 'E-4', 'F4', 'G4', 'G#4', 'B-4'],\n",
    "  \"c#-minor\": ['C#4', 'E-4', 'E4', 'F#4', 'G#4', 'A4', 'B4'],\n",
    "  \"d-minor\": ['D4', 'E4', 'F4', 'G4', 'A4', 'B-4', 'C4'],\n",
    "  \"e--minor\": ['E-4', 'F4', 'F#4', 'G#4', 'B-4', 'B4', 'C#4'],\n",
    "  \"e-minor\": ['E4', 'F#4', 'G4', 'A4', 'B4', 'C4', 'D4'],\n",
    "  \"f-minor\": ['F4', 'G4', 'G#4', 'B-4', 'C4', 'C#4', 'E-4'],\n",
    "  \"f#-minor\": ['F#4', 'G#4', 'A4', 'B4', 'C#4', 'D4', 'E4'],\n",
    "  \"g-minor\": ['G4', 'A4', 'B-4', 'C4', 'D4', 'E-4', 'F4'],\n",
    "  \"g#-minor\": ['G#4', 'B-4', 'B4', 'C#4', 'E-4', 'E4', 'F#4']\n",
    "}\n"
   ]
  },
  {
   "cell_type": "code",
   "execution_count": 27,
   "id": "sxhCOjTk9IJ7",
   "metadata": {
    "colab": {
     "base_uri": "https://localhost:8080/"
    },
    "id": "sxhCOjTk9IJ7",
    "outputId": "f7c9c278-abf4-4213-a0d1-1d96f5b322a9"
   },
   "outputs": [
    {
     "name": "stdout",
     "output_type": "stream",
     "text": [
      "choose scalee-minor\n"
     ]
    }
   ],
   "source": [
    "input_scale = input('choose scale')"
   ]
  },
  {
   "cell_type": "code",
   "execution_count": 65,
   "id": "ff91360a",
   "metadata": {
    "id": "ff91360a"
   },
   "outputs": [],
   "source": [
    "#necemo random\n",
    "#new_corpus = np.array([random.sample(scales[input_scale], input_len)])\n",
    "indices = [0, 1, 2, 1, 6, 0, 2, 3, 2, 4, 3, 2, 1, 0, 6, 0]\n",
    "new_corpus = []\n",
    "for ind in indices:\n",
    "    new_corpus.append(scales[input_scale][ind])\n",
    "new_corpus = np.array([new_corpus])\n",
    "#new_corpus = np.array(['E4', 'F#4', 'G4', 'F#4', 'D4', 'E4', 'G4', 'A4', 'G4', 'B4', 'A4', 'G4', 'F#4', 'E4', 'D4', 'E4'])\n",
    "new_corpus = np.reshape(new_corpus, (1,-1))"
   ]
  },
  {
   "cell_type": "code",
   "execution_count": 66,
   "id": "ade243f3",
   "metadata": {
    "id": "ade243f3"
   },
   "outputs": [],
   "source": [
    "new_corpus = np.reshape(new_corpus, (len(new_corpus[0]), 1))"
   ]
  },
  {
   "cell_type": "code",
   "execution_count": 67,
   "id": "d038aadd",
   "metadata": {},
   "outputs": [],
   "source": [
    "#check occurences of notes in each scale\n",
    "\n",
    "#for k, v in scales.items():\n",
    "#    print(k)\n",
    "#    print()\n",
    "#    for n in v:\n",
    "#        print(len(list(filter(lambda x : x == n, Corpus_train))))"
   ]
  },
  {
   "cell_type": "code",
   "execution_count": 68,
   "id": "00929907",
   "metadata": {},
   "outputs": [],
   "source": [
    "all_notes = ['A4', 'B-4', 'B4', 'C4', 'C#4', 'D4', 'E-4','E4', 'F4','F#4', 'G4','G#4']"
   ]
  },
  {
   "cell_type": "code",
   "execution_count": 69,
   "id": "672caeb9",
   "metadata": {
    "id": "672caeb9"
   },
   "outputs": [],
   "source": [
    "one_hot_new_data = encoder.transform(new_corpus)\n",
    "one_hot_new_data = one_hot_new_data.toarray()"
   ]
  },
  {
   "cell_type": "code",
   "execution_count": 70,
   "id": "48e30c36",
   "metadata": {
    "id": "48e30c36"
   },
   "outputs": [],
   "source": [
    "def funkcija(broj):\n",
    "    if broj > 0.2:\n",
    "        return 1\n",
    "    else:\n",
    "        return 0"
   ]
  },
  {
   "cell_type": "code",
   "execution_count": 71,
   "id": "13dbec28",
   "metadata": {},
   "outputs": [],
   "source": [
    "acc_chords = {\n",
    "    'c-major' : ['C3', 'E3', 'G3'],\n",
    "    'c#-major' : ['C#3', 'F3', 'G#3'],\n",
    "    'd-major' : ['D3', 'A3', 'F#3'],\n",
    "    'e--major': ['E-3', 'B-3', 'G3'],\n",
    "    'e-major' : ['E3', 'B3', 'G#3'],\n",
    "    'f-major' : ['F3', 'C3', 'A3'],\n",
    "    'f#-major' : ['F#3', 'C#3,' 'B-3'],\n",
    "    'g-major' : ['G3', 'B3', 'D3'],\n",
    "    'g#-major' : ['G#3', 'C3', 'E-3'],\n",
    "    'a-major' : ['A3', 'E3', 'C#3'],\n",
    "    'b--major': ['B-3', 'F3', 'D3'],\n",
    "    'b-major' : ['B3', 'F#3', 'E-3'],\n",
    "    \n",
    "    'e-minor' : ['E3', 'B3', 'G3'],\n",
    "    'f-minor' : ['F3', 'C3', 'G#3'],\n",
    "    'f#-minor' : ['F#3', 'C#3', 'A3'],\n",
    "    'g-minor' : ['G3', 'D3', 'B-3'],\n",
    "    'g#-minor' : ['G#3', 'E-3', 'B3'],\n",
    "    'a-minor' : ['A3', 'E3', 'C3'],\n",
    "    'b--minor' : ['B-3', 'F3', 'C#3'],\n",
    "    'b-minor' : ['B3', 'F#3', 'D3'],\n",
    "    'c-minor' : ['C3', 'G3', 'E-3'],\n",
    "    'c#-minor' : ['C#3', 'G#3', 'E3'],\n",
    "    'd-minor' : ['D3', 'A3', 'F3'],\n",
    "    'e--minor' : ['E-3', 'B-3', 'F#3']\n",
    "\n",
    "}"
   ]
  },
  {
   "cell_type": "code",
   "execution_count": 72,
   "id": "gHjsxYqbRjrM",
   "metadata": {
    "id": "gHjsxYqbRjrM"
   },
   "outputs": [],
   "source": [
    "chord_notes = {\n",
    "    'c-major' : ['C4', 'E4', 'G4'],\n",
    "    'c#-major' : ['C#4', 'F4', 'G#4'],\n",
    "    'd-major' : ['D4', 'A4', 'F#4'],\n",
    "    'e--major': ['E-4', 'B-4', 'G4'],\n",
    "    'e-major' : ['E4', 'B4', 'G#4'],\n",
    "    'f-major' : ['F4', 'C4', 'A4'],\n",
    "    'f#-major' : ['F#4', 'C#4,' 'B-4'],\n",
    "    'g-major' : ['G4', 'B4', 'D4'],\n",
    "    'g#-major' : ['G#4', 'C4', 'E-4'],\n",
    "    'a-major' : ['A4', 'E4', 'C#4'],\n",
    "    'b--major': ['B-4', 'F4', 'D4'],\n",
    "    'b-major' : ['B4', 'F#4', 'E-4'],\n",
    "    \n",
    "    'e-minor' : ['E4', 'B4', 'G4'],\n",
    "    'f-minor' : ['F4', 'C4', 'G#4'],\n",
    "    'f#-minor' : ['F#4', 'C#4', 'A4'],\n",
    "    'g-minor' : ['G4', 'D4', 'B-4'],\n",
    "    'g#-minor' : ['G#4', 'E-4', 'B4'],\n",
    "    'a-minor' : ['A4', 'E4', 'C4'],\n",
    "    'b--minor' : ['B-4', 'F4', 'C#4'],\n",
    "    'b-minor' : ['B4', 'F#4', 'D4'],\n",
    "    'c-minor' : ['C4', 'G4', 'E-4'],\n",
    "    'c#-minor' : ['C#4', 'G#4', 'E4'],\n",
    "    'd-minor' : ['D4', 'A4', 'F4'],\n",
    "    'e--minor' : ['E-4', 'B-4', 'F#4']\n",
    "\n",
    "}"
   ]
  },
  {
   "cell_type": "code",
   "execution_count": 73,
   "id": "1c3adda7",
   "metadata": {
    "id": "1c3adda7"
   },
   "outputs": [],
   "source": [
    "def three_in_a_row(new_note, one_hot_new_data, i):\n",
    "    entry = encoder.inverse_transform(new_note)\n",
    "    last = encoder.inverse_transform(one_hot_new_data[i-1:i])\n",
    "    before_last = encoder.inverse_transform(one_hot_new_data[i-2:i-1])\n",
    "    if entry != last or entry != before_last:\n",
    "        return False\n",
    "    return True"
   ]
  },
  {
   "cell_type": "code",
   "execution_count": 74,
   "id": "d9202dc5",
   "metadata": {
    "id": "d9202dc5"
   },
   "outputs": [],
   "source": [
    "def choose_another_note(forbidden, curr_chord):\n",
    "    our_scale = set(scales[input_scale])\n",
    "    curr_chord_notes = set(chord_notes[curr_chord])\n",
    "    if np.any(forbidden):\n",
    "        forbidden = np.reshape(forbidden, (1, -1))\n",
    "        forbidden = encoder.inverse_transform(forbidden)\n",
    "        our_scale_valid = our_scale.difference({forbidden[0][0]})\n",
    "        curr_chord_notes_valid = curr_chord_notes.difference({forbidden[0][0]})\n",
    "    else:\n",
    "        our_scale_valid = our_scale\n",
    "        curr_chord_notes_valid = curr_chord_notes\n",
    "        \n",
    "    rand_list = []\n",
    "    if random.random() < 0.7:\n",
    "        rand_list = [random.choice(list(curr_chord_notes_valid))]\n",
    "    else:\n",
    "        rand_list = [random.choice(list(our_scale_valid))]\n",
    "    new_note = np.array(rand_list)\n",
    "    new_note = np.reshape(new_note, (len(new_note), 1))\n",
    "\n",
    "    new_note = encoder.transform(new_note)\n",
    "    new_note = new_note.toarray()\n",
    "    \n",
    "    return new_note\n",
    "    \n",
    "    "
   ]
  },
  {
   "cell_type": "code",
   "execution_count": 75,
   "id": "9c0997b4",
   "metadata": {
    "id": "9c0997b4"
   },
   "outputs": [],
   "source": [
    "our_scale = set(scales[input_scale])\n",
    "\n",
    "def in_scale(new_note):\n",
    "    if encoder.inverse_transform(new_note)[0][0] not in our_scale:\n",
    "        return False\n",
    "    return True"
   ]
  },
  {
   "cell_type": "code",
   "execution_count": 76,
   "id": "a11bcf35",
   "metadata": {},
   "outputs": [],
   "source": [
    "progression = {\n",
    "    'c-major' : ['a-minor', 'c-major', 'f-major', 'g-major'],\n",
    "    'a-minor' : ['a-minor', 'c-major', 'f-major', 'g-major'],\n",
    "    \n",
    "    'c#-major' : ['b--minor', 'c#-major', 'f#-major', 'g#-major'],\n",
    "    'b--minor' : ['b--minor', 'c#-major', 'f#-major', 'g#-major'],\n",
    "    \n",
    "    'd-major' : ['b-minor', 'd-major', 'g-major', 'a-major'],\n",
    "    'b-minor' : ['b-minor', 'd-major', 'g-major', 'a-major'],\n",
    "    \n",
    "    'e--major' : ['c-minor', 'e--major', 'g#-major', 'b--major'],\n",
    "    'c-minor' : ['c-minor', 'e--major', 'g#-major', 'b--major'],\n",
    "    \n",
    "    'e-major' : ['c#-minor', 'e-major', 'a-major', 'b-major'],\n",
    "    'c#-minor' : ['c#-minor', 'e-major', 'a-major', 'b-major'],\n",
    "    \n",
    "    'f-major' : ['d-minor', 'f-major', 'b--major', 'c-major'],\n",
    "    'd-minor' : ['d-minor', 'f-major', 'b--major', 'c-major'],\n",
    "    \n",
    "    'f#-major' : ['e--minor', 'f#-major', 'b-major', 'c#-major'],\n",
    "    'e--minor' : ['e--minor', 'f#-major', 'b-major', 'c#-major'],\n",
    "    \n",
    "    'g-major' : ['e-minor', 'g-major', 'c-major', 'd-major'],\n",
    "    'e-minor' : ['e-minor', 'g-major', 'c-major', 'd-major'],\n",
    "    \n",
    "    'g#-major' : ['f-minor', 'g#-major', 'c#-major', 'e--major'],\n",
    "    'f-minor' : ['f-minor', 'g#-major', 'c#-major', 'e--major'],\n",
    "    \n",
    "    'a-major' : ['f#-minor', 'a-major', 'd-major', 'e-major'],\n",
    "    'f#-minor' : ['f#-minor', 'a-major', 'd-major', 'e-major'],\n",
    "    \n",
    "    'b--major' : ['g-minor', 'b--major', 'e--major', 'f-major'],\n",
    "    'g-minor' : ['g-minor', 'b--major', 'e--major', 'f-major'],\n",
    "    \n",
    "    'b-major' : ['g#-minor', 'b-major', 'e-major', 'f#-major'],\n",
    "    'g#-minor' : ['g#-minor', 'b-major', 'e-major', 'f#-major'],\n",
    "    \n",
    "    \n",
    "    \n",
    "}"
   ]
  },
  {
   "cell_type": "code",
   "execution_count": 77,
   "id": "a992a861",
   "metadata": {},
   "outputs": [],
   "source": [
    "song_notes_len = 256\n",
    "accompaniment = stream.Part()\n",
    "\n",
    "chords_acc = {0 : progression[input_scale][0], 1 : progression[input_scale][1],\n",
    "              2 : progression[input_scale][2], 3 : progression[input_scale][3]}\n",
    "\n",
    "cicles = int(song_notes_len/4)\n",
    "\n",
    "for j in range(cicles):\n",
    "    if j % 4 == 0:\n",
    "        for k in range(4):\n",
    "            e_min_chord = chord.Chord(acc_chords[chords_acc[0]])\n",
    "            e_min_chord.duration.type = 'quarter'\n",
    "            accompaniment.append(e_min_chord)\n",
    "    if j % 4 == 1:\n",
    "        for k in range(4):\n",
    "            g_maj_chord = chord.Chord(acc_chords[chords_acc[1]])\n",
    "            g_maj_chord.duration.type = 'quarter'\n",
    "            accompaniment.append(g_maj_chord)\n",
    "    if j % 4 == 2:\n",
    "        for k in range(4):\n",
    "            c_maj_chord = chord.Chord(acc_chords[chords_acc[2]])\n",
    "            c_maj_chord.duration.type = 'quarter'\n",
    "            accompaniment.append(c_maj_chord)\n",
    "    if j % 4 == 3:\n",
    "        for k in range(4):\n",
    "            d_maj_chord = chord.Chord(acc_chords[chords_acc[3]])\n",
    "            d_maj_chord.duration.type = 'quarter'\n",
    "            accompaniment.append(d_maj_chord)\n"
   ]
  },
  {
   "cell_type": "code",
   "execution_count": 78,
   "id": "216fde71",
   "metadata": {},
   "outputs": [],
   "source": [
    "def walkOption(lastNote, fromNote, toNotes, curr_chord, measurePosition):\n",
    "    lastNote = note.Note(lastNote)\n",
    "    fromNote = note.Note(fromNote)\n",
    "    note_from_chord = note.Note(toNotes[0])\n",
    "    if measurePosition == 3:\n",
    "        if lastNote.nameWithOctave not in curr_chord:\n",
    "            return \"\"\n",
    "        intervalFirst = interval.notesToInterval(lastNote, fromNote)\n",
    "        intervalSecond = interval.notesToInterval(fromNote, note_from_chord)\n",
    "        if (intervalFirst.semitones == 2 or intervalFirst.semitones ==1) and intervalSecond.semitones == 1:\n",
    "            return note_from_chord.nameWithOctave\n",
    "        if (intervalFirst.semitones == -2 or intervalFirst.semitones == -1) and intervalSecond.semitones == -1:\n",
    "            return note_from_chord.nameWithOctave\n",
    "        \n",
    "    elif measurePosition == 2:\n",
    "        if fromNote.nameWithOctave in our_scale:\n",
    "            intervalThird = interval.notesToInterval(fromNote, note_from_chord)\n",
    "            if intervalThird.semitones == 3:\n",
    "                i = interval.Interval(2)\n",
    "                add_note = fromNote.transpose(i)\n",
    "                if add_note.nameWithOctave in our_scale:\n",
    "                    return add_note.nameWithOctave\n",
    "            elif intervalThird.semitones == -3:\n",
    "                i = interval.Interval(-2)\n",
    "                add_note = fromNote.transpose(i)\n",
    "                if add_note.nameWithOctave in our_scale:\n",
    "                    return add_note.nameWithOctave\n",
    "        \n",
    "        if lastNote.nameWithOctave not in curr_chord:\n",
    "            return \"\"\n",
    "        intervalFourth = interval.notesToInterval(fromNote, note_from_chord)\n",
    "        if intervalFourth.semitones == 2:\n",
    "            i = interval.Interval(1)\n",
    "            add_note = fromNote.transpose(i)\n",
    "            return add_note.nameWithOctave\n",
    "        if intervalFourth.semitones == -2:\n",
    "            i = interval.Interval(-1)\n",
    "            add_note = fromNote.transpose(i)\n",
    "            return add_note.nameWithOctave\n",
    "    return \"\""
   ]
  },
  {
   "cell_type": "code",
   "execution_count": 79,
   "id": "8c068878",
   "metadata": {
    "colab": {
     "base_uri": "https://localhost:8080/"
    },
    "id": "8c068878",
    "outputId": "10a078d5-e0bd-459f-dca8-daa4de84e12f"
   },
   "outputs": [
    {
     "name": "stdout",
     "output_type": "stream",
     "text": [
      "1/1 [==============================] - 0s 51ms/step\n",
      "1/1 [==============================] - 0s 49ms/step\n",
      "1/1 [==============================] - 0s 50ms/step\n",
      "1/1 [==============================] - 0s 53ms/step\n",
      "1/1 [==============================] - 0s 50ms/step\n",
      "1/1 [==============================] - 0s 51ms/step\n",
      "1/1 [==============================] - 0s 52ms/step\n",
      "1/1 [==============================] - 0s 56ms/step\n",
      "1/1 [==============================] - 0s 51ms/step\n",
      "1/1 [==============================] - 0s 81ms/step\n",
      "1/1 [==============================] - ETA: 0s"
     ]
    }
   ],
   "source": [
    "i = input_len\n",
    "curr_chord = 0\n",
    "last_note = one_hot_new_data[input_len-1]\n",
    "last_note = np.reshape(last_note, (1, one_hot_data_train.shape[1]))\n",
    "\n",
    "cancel_counter = 0\n",
    "walk_counter = 0\n",
    "\n",
    "while i < song_notes_len:\n",
    "    curr_chord = chords_acc[int(i / 4.0) % 4]\n",
    "    next_chord = chords_acc[int((i+2) / 4.0) % 4]\n",
    "    new_note = model.predict(np.reshape(one_hot_new_data[i-input_len:i], (1, input_len, one_hot_data_train.shape[1])))\n",
    "    new_note = np.array(list(map(funkcija, new_note[0])))\n",
    "    new_note = np.reshape(new_note, (1, one_hot_data_train.shape[1]))\n",
    "\n",
    "    while not np.any(new_note[0]):\n",
    "        new_note = choose_another_note(new_note[0], curr_chord)\n",
    "        new_note = np.array(list(map(funkcija, new_note[0])))\n",
    "        new_note = np.reshape(new_note, (1, one_hot_data_train.shape[1]))\n",
    "        \n",
    "    add_note = walkOption(encoder.inverse_transform(last_note)[0][0], encoder.inverse_transform(new_note)[0][0], chord_notes[next_chord], chord_notes[curr_chord], i%4)\n",
    "    if add_note != \"\":\n",
    "        walk_counter += 1\n",
    "        #print(encoder.inverse_transform(new_note)[0][0])\n",
    "        #print(add_note)\n",
    "\n",
    "        add_note_np = np.array([add_note])\n",
    "        add_note_np = np.reshape(add_note_np, (len(add_note_np), 1))\n",
    "        one_hot_add_note = encoder.transform(add_note_np)\n",
    "        one_hot_add_note = one_hot_add_note.toarray()\n",
    "        \n",
    "        one_hot_new_data = np.append(one_hot_new_data, new_note, axis=0)\n",
    "        one_hot_new_data = np.append(one_hot_new_data, one_hot_add_note, axis=0)\n",
    "                \n",
    "        if i % 4 == 2:\n",
    "            new_note_str = encoder.inverse_transform(new_note)[0][0]\n",
    "            interval_my = interval.notesToInterval(note.Note(new_note_str), note.Note(add_note))\n",
    "\n",
    "            to_note = note.Note(add_note).transpose(interval.Interval(interval_my.semitones)).nameWithOctave\n",
    "            \n",
    "            if to_note not in our_scale:\n",
    "                to_note = note.Note(to_note).transpose(interval.Interval(-1)).nameWithOctave\n",
    "            #print(to_note)\n",
    "            \n",
    "            to_note = np.array([to_note])\n",
    "            to_note = np.reshape(to_note, (len(to_note), 1))\n",
    "            one_hot_to_note = encoder.transform(to_note)\n",
    "            one_hot_to_note = one_hot_to_note.toarray()\n",
    "            one_hot_new_data = np.append(one_hot_new_data, one_hot_to_note, axis=0)\n",
    "            i+=1\n",
    "        i += 2\n",
    "    \n",
    "            \n",
    "        continue\n",
    "    # not in_scale(new_note) or ...\n",
    "    while not in_scale(new_note) or three_in_a_row(new_note, one_hot_new_data, i):\n",
    "        cancel_counter+=1\n",
    "        new_note = choose_another_note(new_note[0], curr_chord)\n",
    "        new_note = np.array(list(map(funkcija, new_note[0])))\n",
    "        new_note = np.reshape(new_note, (1, one_hot_data_train.shape[1]))\n",
    "        \n",
    "    one_hot_new_data = np.append(one_hot_new_data, new_note, axis=0)\n",
    "    last_note = new_note\n",
    "    i += 1\n",
    "\n"
   ]
  },
  {
   "cell_type": "code",
   "execution_count": 80,
   "id": "8c8e3bc6",
   "metadata": {
    "id": "8c8e3bc6"
   },
   "outputs": [],
   "source": [
    "one_hot_new_data = encoder.inverse_transform(one_hot_new_data)"
   ]
  },
  {
   "cell_type": "code",
   "execution_count": 81,
   "id": "1364280e",
   "metadata": {
    "id": "1364280e"
   },
   "outputs": [],
   "source": [
    "def notes(Snippet):\n",
    "    Melody = []\n",
    "    offset = 0 #Incremental\n",
    "    for i in Snippet:\n",
    "        note_snip = note.Note(i)\n",
    "        note_snip.offset = offset\n",
    "        Melody.append(note_snip)\n",
    "        # increase offset each iteration so that notes do not stack\n",
    "        offset += 1\n",
    "    Melody_midi = stream.Stream(Melody)   \n",
    "    return Melody_midi"
   ]
  },
  {
   "cell_type": "code",
   "execution_count": 82,
   "id": "c43cdf7d",
   "metadata": {},
   "outputs": [],
   "source": [
    "Melody = notes(one_hot_new_data.reshape(one_hot_new_data.shape[0], ))\n",
    "score = stream.Score()\n",
    "score.insert(0, Melody)\n",
    "score.insert(0, accompaniment)\n",
    "flat_stream = accompaniment.flat\n",
    "counter = 1\n",
    "# iterate over the elements of the flattened stream and print their types\n",
    "for element in flat_stream:\n",
    "    if element.isNote:\n",
    "        print('Note:', element.pitch)\n",
    "    elif element.isChord:\n",
    "        counter+=1\n",
    "        print('Chord:', element.pitches)\n",
    "score.write('midi', 'something.mid')"
   ]
  },
  {
   "cell_type": "code",
   "execution_count": null,
   "id": "d589cc09",
   "metadata": {},
   "outputs": [],
   "source": []
  }
 ],
 "metadata": {
  "colab": {
   "provenance": []
  },
  "kernelspec": {
   "display_name": "Python 3 (ipykernel)",
   "language": "python",
   "name": "python3"
  },
  "language_info": {
   "codemirror_mode": {
    "name": "ipython",
    "version": 3
   },
   "file_extension": ".py",
   "mimetype": "text/x-python",
   "name": "python",
   "nbconvert_exporter": "python",
   "pygments_lexer": "ipython3",
   "version": "3.10.6"
  }
 },
 "nbformat": 4,
 "nbformat_minor": 5
}
