{
 "cells": [
  {
   "cell_type": "code",
   "execution_count": 1,
   "id": "34fbb1e3",
   "metadata": {
    "id": "34fbb1e3"
   },
   "outputs": [
    {
     "name": "stderr",
     "output_type": "stream",
     "text": [
      "2023-04-03 12:51:50.852058: I tensorflow/core/platform/cpu_feature_guard.cc:193] This TensorFlow binary is optimized with oneAPI Deep Neural Network Library (oneDNN) to use the following CPU instructions in performance-critical operations:  AVX2 FMA\n",
      "To enable them in other operations, rebuild TensorFlow with the appropriate compiler flags.\n",
      "2023-04-03 12:51:51.234940: W tensorflow/compiler/xla/stream_executor/platform/default/dso_loader.cc:64] Could not load dynamic library 'libcudart.so.11.0'; dlerror: libcudart.so.11.0: cannot open shared object file: No such file or directory\n",
      "2023-04-03 12:51:51.234962: I tensorflow/compiler/xla/stream_executor/cuda/cudart_stub.cc:29] Ignore above cudart dlerror if you do not have a GPU set up on your machine.\n",
      "2023-04-03 12:51:53.988385: W tensorflow/compiler/xla/stream_executor/platform/default/dso_loader.cc:64] Could not load dynamic library 'libnvinfer.so.7'; dlerror: libnvinfer.so.7: cannot open shared object file: No such file or directory\n",
      "2023-04-03 12:51:53.988519: W tensorflow/compiler/xla/stream_executor/platform/default/dso_loader.cc:64] Could not load dynamic library 'libnvinfer_plugin.so.7'; dlerror: libnvinfer_plugin.so.7: cannot open shared object file: No such file or directory\n",
      "2023-04-03 12:51:53.988531: W tensorflow/compiler/tf2tensorrt/utils/py_utils.cc:38] TF-TRT Warning: Cannot dlopen some TensorRT libraries. If you would like to use Nvidia GPU with TensorRT, please make sure the missing libraries mentioned above are installed properly.\n"
     ]
    }
   ],
   "source": [
    "from music21 import *\n",
    "import tensorflow\n",
    "import sys\n",
    "import os\n",
    "import IPython\n",
    "from keras.models import Sequential\n",
    "from keras.layers import Dense,LSTM,Dropout\n",
    "import keras\n",
    "from sklearn.metrics import mean_squared_error\n",
    "import numpy as np\n",
    "from sklearn.preprocessing import OneHotEncoder\n",
    "import random"
   ]
  },
  {
   "cell_type": "code",
   "execution_count": null,
   "id": "Pxtej6UxpNhR",
   "metadata": {
    "id": "Pxtej6UxpNhR"
   },
   "outputs": [],
   "source": []
  },
  {
   "cell_type": "code",
   "execution_count": 4,
   "id": "e3074d81",
   "metadata": {
    "id": "e3074d81"
   },
   "outputs": [],
   "source": [
    "environment.set('musescoreDirectPNGPath', '../.local/bin/MuseScore-4.0.1.230121751-x86_64.AppImage')"
   ]
  },
  {
   "cell_type": "code",
   "execution_count": 17,
   "id": "afb77745",
   "metadata": {
    "id": "afb77745"
   },
   "outputs": [],
   "source": [
    "filepath = \"pop_songs/\""
   ]
  },
  {
   "cell_type": "code",
   "execution_count": 18,
   "id": "faefff0c",
   "metadata": {
    "colab": {
     "base_uri": "https://localhost:8080/"
    },
    "id": "faefff0c",
    "outputId": "203a5bc5-9820-4d1f-b48c-df3d0fcefe8c"
   },
   "outputs": [
    {
     "name": "stdout",
     "output_type": "stream",
     "text": [
      "pop_songs/x (1).mid\n",
      "pop_songs/x (37).mid\n",
      "pop_songs/x (40).mid\n",
      "pop_songs/x (17).mid\n",
      "pop_songs/x (29).mid\n",
      "pop_songs/x (41).mid\n",
      "pop_songs/x (21).mid\n",
      "pop_songs/x (3).mid\n"
     ]
    },
    {
     "name": "stderr",
     "output_type": "stream",
     "text": [
      "/home/milos/.local/lib/python3.10/site-packages/music21/midi/translate.py:863: TranslateWarning: Unable to determine instrument from <music21.midi.MidiEvent SEQUENCE_TRACK_NAME, track=8, channel=None, data=b'Shawn Mendes, Camila Cabello \\x96 Se\\xf1orita'>; getting generic Instrument\n",
      "  warnings.warn(\n"
     ]
    },
    {
     "name": "stdout",
     "output_type": "stream",
     "text": [
      "pop_songs/x (11).mid\n",
      "pop_songs/x (24).mid\n",
      "pop_songs/x (23).mid\n",
      "pop_songs/x (12).mid\n",
      "pop_songs/x (26).mid\n",
      "pop_songs/x (25).mid\n",
      "pop_songs/x (16).mid\n",
      "pop_songs/x (2).mid\n",
      "pop_songs/x (13).mid\n",
      "pop_songs/x (28).mid\n",
      "pop_songs/x (45).mid\n",
      "pop_songs/x (43).mid\n",
      "pop_songs/x (32).mid\n",
      "pop_songs/x (15).mid\n",
      "pop_songs/x (47).mid\n",
      "pop_songs/x (42).mid\n"
     ]
    }
   ],
   "source": [
    "all_midis= []\n",
    "names = []\n",
    "j = 0\n",
    "for i in os.listdir(filepath):\n",
    "    if j > 100:\n",
    "      break\n",
    "    if i.endswith(\".mid\") and i.startswith(\"x\"):\n",
    "        tr = filepath + i\n",
    "        print(tr)\n",
    "        names.append(tr)\n",
    "        midi = converter.parse(tr)\n",
    "        all_midis.append(midi)\n",
    "    j += 1\n",
    "        "
   ]
  },
  {
   "cell_type": "code",
   "execution_count": 19,
   "id": "26c2089d",
   "metadata": {
    "id": "26c2089d"
   },
   "outputs": [],
   "source": [
    "def extract_notes(files):\n",
    "    notes = []\n",
    "    pick = None\n",
    "    for f in files:\n",
    "        #songs = instrument.partitionByInstrument(f)\n",
    "        for part in f.parts:\n",
    "            pick = part.recurse()\n",
    "            for element in pick:\n",
    "                if isinstance(element, note.Note):\n",
    "                    notes.append(str(element.pitch))\n",
    "                elif isinstance(element, chord.Chord):\n",
    "                    notes.append(\".\".join(str(n) for n in element.normalOrder))\n",
    "\n",
    "    return notes\n",
    "#Getting the list of notes as Corpus\n",
    "Corpus= np.array(extract_notes(all_midis))\n",
    "#print(\"Total notes in all the Mozzart midis in the dataset:\", len(Corpus))"
   ]
  },
  {
   "cell_type": "code",
   "execution_count": 20,
   "id": "48f98910",
   "metadata": {
    "id": "48f98910"
   },
   "outputs": [],
   "source": [
    "Corpus = np.reshape(Corpus, (len(Corpus), 1))"
   ]
  },
  {
   "cell_type": "code",
   "execution_count": 21,
   "id": "ff3747f0",
   "metadata": {
    "colab": {
     "base_uri": "https://localhost:8080/"
    },
    "id": "ff3747f0",
    "outputId": "acdfc716-eddd-4fdf-8ffc-1c3a6f070c80"
   },
   "outputs": [
    {
     "data": {
      "text/plain": [
       "(9323, 1)"
      ]
     },
     "execution_count": 21,
     "metadata": {},
     "output_type": "execute_result"
    }
   ],
   "source": [
    "Corpus.shape"
   ]
  },
  {
   "cell_type": "code",
   "execution_count": 22,
   "id": "1ed24110",
   "metadata": {
    "colab": {
     "base_uri": "https://localhost:8080/"
    },
    "id": "1ed24110",
    "outputId": "b57f89dd-f02f-4212-fd5c-6a5074d5f812"
   },
   "outputs": [
    {
     "data": {
      "text/plain": [
       "array([['4.7.11'],\n",
       "       ['7.11'],\n",
       "       ['0.4.7'],\n",
       "       ...,\n",
       "       ['F2'],\n",
       "       ['G2'],\n",
       "       ['G2']], dtype='<U6')"
      ]
     },
     "execution_count": 22,
     "metadata": {},
     "output_type": "execute_result"
    }
   ],
   "source": [
    "Corpus"
   ]
  },
  {
   "cell_type": "code",
   "execution_count": 23,
   "id": "ce1b4dda",
   "metadata": {
    "colab": {
     "base_uri": "https://localhost:8080/"
    },
    "id": "ce1b4dda",
    "outputId": "282b2ce4-d42b-4ea9-98e2-185535b9b93a"
   },
   "outputs": [
    {
     "data": {
      "text/plain": [
       "91"
      ]
     },
     "execution_count": 23,
     "metadata": {},
     "output_type": "execute_result"
    }
   ],
   "source": [
    "len(list(filter(lambda x : x == 'C3', Corpus)))"
   ]
  },
  {
   "cell_type": "code",
   "execution_count": 24,
   "id": "cd5f9adc",
   "metadata": {
    "colab": {
     "base_uri": "https://localhost:8080/"
    },
    "id": "cd5f9adc",
    "outputId": "05793b60-32b3-4bcd-adc1-dea0bf7dbb93"
   },
   "outputs": [
    {
     "name": "stdout",
     "output_type": "stream",
     "text": [
      "[[0. 0. 0. ... 0. 0. 0.]\n",
      " [0. 0. 0. ... 0. 0. 0.]\n",
      " [0. 0. 1. ... 0. 0. 0.]\n",
      " ...\n",
      " [0. 0. 0. ... 0. 0. 0.]\n",
      " [0. 0. 0. ... 0. 0. 0.]\n",
      " [0. 0. 0. ... 0. 0. 0.]]\n"
     ]
    }
   ],
   "source": [
    "# Initialize OneHotEncoder object\n",
    "encoder = OneHotEncoder()\n",
    "\n",
    "# Fit and transform the data\n",
    "one_hot_data = encoder.fit_transform(Corpus)\n",
    "\n",
    "# Convert sparse matrix to array\n",
    "one_hot_data = one_hot_data.toarray()\n",
    "\n",
    "# Print the one-hot encoded data\n",
    "print(one_hot_data)"
   ]
  },
  {
   "cell_type": "code",
   "execution_count": 25,
   "id": "c61bcec0",
   "metadata": {
    "colab": {
     "base_uri": "https://localhost:8080/"
    },
    "id": "c61bcec0",
    "outputId": "fa8e6091-a2b8-4553-9576-a1f75ad0c287"
   },
   "outputs": [
    {
     "data": {
      "text/plain": [
       "(9323, 135)"
      ]
     },
     "execution_count": 25,
     "metadata": {},
     "output_type": "execute_result"
    }
   ],
   "source": [
    "one_hot_data.shape"
   ]
  },
  {
   "cell_type": "code",
   "execution_count": 26,
   "id": "879d620d",
   "metadata": {
    "id": "879d620d"
   },
   "outputs": [],
   "source": [
    "input_len = 4"
   ]
  },
  {
   "cell_type": "code",
   "execution_count": 27,
   "id": "f5196b42",
   "metadata": {
    "id": "f5196b42"
   },
   "outputs": [],
   "source": [
    "def getXy(data, step):\n",
    "    y_ind = np.arange(step, len(data), step)\n",
    "    y = data[y_ind]\n",
    "    rows_x = len(y)\n",
    "    X = data[range(rows_x * step)]\n",
    "    X = np.reshape(X, (rows_x, step, one_hot_data.shape[1]))\n",
    "    return X, y"
   ]
  },
  {
   "cell_type": "code",
   "execution_count": 28,
   "id": "ce1d850a",
   "metadata": {
    "colab": {
     "base_uri": "https://localhost:8080/"
    },
    "id": "ce1d850a",
    "outputId": "f2292380-a181-417f-c4ce-0a746904caab"
   },
   "outputs": [
    {
     "name": "stdout",
     "output_type": "stream",
     "text": [
      "9323\n"
     ]
    },
    {
     "data": {
      "text/plain": [
       "(2330, 135)"
      ]
     },
     "execution_count": 28,
     "metadata": {},
     "output_type": "execute_result"
    }
   ],
   "source": [
    "print(len(one_hot_data))\n",
    "indeksi = np.arange(input_len, len(one_hot_data),input_len)\n",
    "one_hot_data[indeksi].shape"
   ]
  },
  {
   "cell_type": "code",
   "execution_count": 29,
   "id": "8516548b",
   "metadata": {
    "id": "8516548b"
   },
   "outputs": [],
   "source": [
    "X, y = getXy(one_hot_data, input_len)"
   ]
  },
  {
   "cell_type": "code",
   "execution_count": 30,
   "id": "5e68d0cb",
   "metadata": {
    "colab": {
     "base_uri": "https://localhost:8080/"
    },
    "id": "5e68d0cb",
    "outputId": "614da27a-04cf-489c-cc27-f09416e68b40"
   },
   "outputs": [
    {
     "data": {
      "text/plain": [
       "(2330, 4, 135)"
      ]
     },
     "execution_count": 30,
     "metadata": {},
     "output_type": "execute_result"
    }
   ],
   "source": [
    "X.shape"
   ]
  },
  {
   "cell_type": "code",
   "execution_count": 31,
   "id": "8e9994d5",
   "metadata": {
    "colab": {
     "base_uri": "https://localhost:8080/"
    },
    "id": "8e9994d5",
    "outputId": "a980bbb2-d5ce-4ef8-e146-17f72b63b00f"
   },
   "outputs": [
    {
     "data": {
      "text/plain": [
       "(2330, 135)"
      ]
     },
     "execution_count": 31,
     "metadata": {},
     "output_type": "execute_result"
    }
   ],
   "source": [
    "y.shape"
   ]
  },
  {
   "cell_type": "code",
   "execution_count": 32,
   "id": "9b0d6985",
   "metadata": {
    "id": "9b0d6985"
   },
   "outputs": [],
   "source": [
    "def create_RNN(hidden_units, dense_units, input_shape, activation):\n",
    "    model = Sequential()\n",
    "    model.add(LSTM(hidden_units, input_shape=input_shape, return_sequences=True))\n",
    "    model.add(Dropout(0.1))\n",
    "    model.add(LSTM(int(hidden_units/2)))\n",
    "    model.add(Dense(units=dense_units))\n",
    "    model.add(Dropout(0.1))\n",
    "    model.add(Dense(units=one_hot_data.shape[1], activation='softmax'))\n",
    "    model.compile(loss=tensorflow.losses.CategoricalCrossentropy(), optimizer='adam')\n",
    "    return model"
   ]
  },
  {
   "cell_type": "code",
   "execution_count": 33,
   "id": "692fe227",
   "metadata": {
    "id": "692fe227"
   },
   "outputs": [
    {
     "name": "stderr",
     "output_type": "stream",
     "text": [
      "2023-04-03 13:02:48.039969: W tensorflow/compiler/xla/stream_executor/platform/default/dso_loader.cc:64] Could not load dynamic library 'libcuda.so.1'; dlerror: libcuda.so.1: cannot open shared object file: No such file or directory\n",
      "2023-04-03 13:02:48.040496: W tensorflow/compiler/xla/stream_executor/cuda/cuda_driver.cc:265] failed call to cuInit: UNKNOWN ERROR (303)\n",
      "2023-04-03 13:02:48.040625: I tensorflow/compiler/xla/stream_executor/cuda/cuda_diagnostics.cc:156] kernel driver does not appear to be running on this host (milos): /proc/driver/nvidia/version does not exist\n",
      "2023-04-03 13:02:48.042549: I tensorflow/core/platform/cpu_feature_guard.cc:193] This TensorFlow binary is optimized with oneAPI Deep Neural Network Library (oneDNN) to use the following CPU instructions in performance-critical operations:  AVX2 FMA\n",
      "To enable them in other operations, rebuild TensorFlow with the appropriate compiler flags.\n"
     ]
    }
   ],
   "source": [
    "model = create_RNN(516, 164, input_shape=(input_len, one_hot_data.shape[1]), activation=['softmax', 'softmax'])"
   ]
  },
  {
   "cell_type": "code",
   "execution_count": 34,
   "id": "e2f39916",
   "metadata": {
    "colab": {
     "base_uri": "https://localhost:8080/"
    },
    "id": "e2f39916",
    "outputId": "89a6f126-45bd-45ec-ed25-e212627cd878"
   },
   "outputs": [
    {
     "name": "stdout",
     "output_type": "stream",
     "text": [
      "Model: \"sequential\"\n",
      "_________________________________________________________________\n",
      " Layer (type)                Output Shape              Param #   \n",
      "=================================================================\n",
      " lstm (LSTM)                 (None, 4, 516)            1345728   \n",
      "                                                                 \n",
      " dropout (Dropout)           (None, 4, 516)            0         \n",
      "                                                                 \n",
      " lstm_1 (LSTM)               (None, 258)               799800    \n",
      "                                                                 \n",
      " dense (Dense)               (None, 164)               42476     \n",
      "                                                                 \n",
      " dropout_1 (Dropout)         (None, 164)               0         \n",
      "                                                                 \n",
      " dense_1 (Dense)             (None, 135)               22275     \n",
      "                                                                 \n",
      "=================================================================\n",
      "Total params: 2,210,279\n",
      "Trainable params: 2,210,279\n",
      "Non-trainable params: 0\n",
      "_________________________________________________________________\n"
     ]
    }
   ],
   "source": [
    "model.summary()"
   ]
  },
  {
   "cell_type": "code",
   "execution_count": 35,
   "id": "93e32072",
   "metadata": {
    "colab": {
     "base_uri": "https://localhost:8080/"
    },
    "id": "93e32072",
    "outputId": "b5febb91-2ef2-4ba3-e997-2a067331b5e7"
   },
   "outputs": [
    {
     "data": {
      "text/plain": [
       "array([[0., 0., 0., ..., 0., 0., 0.],\n",
       "       [0., 0., 0., ..., 0., 0., 0.],\n",
       "       [0., 0., 1., ..., 0., 0., 0.],\n",
       "       ...,\n",
       "       [0., 0., 0., ..., 0., 0., 0.],\n",
       "       [0., 0., 0., ..., 0., 0., 0.],\n",
       "       [0., 0., 0., ..., 0., 0., 0.]])"
      ]
     },
     "execution_count": 35,
     "metadata": {},
     "output_type": "execute_result"
    }
   ],
   "source": [
    "y"
   ]
  },
  {
   "cell_type": "code",
   "execution_count": 36,
   "id": "cec6ef8b",
   "metadata": {
    "colab": {
     "base_uri": "https://localhost:8080/"
    },
    "id": "cec6ef8b",
    "outputId": "7613dcd3-88e4-444d-c209-ee5918285abd"
   },
   "outputs": [
    {
     "data": {
      "text/plain": [
       "2"
      ]
     },
     "execution_count": 36,
     "metadata": {},
     "output_type": "execute_result"
    }
   ],
   "source": [
    "len(np.unique(X))"
   ]
  },
  {
   "cell_type": "code",
   "execution_count": 37,
   "id": "2248f9af",
   "metadata": {
    "colab": {
     "base_uri": "https://localhost:8080/"
    },
    "id": "2248f9af",
    "outputId": "aebb409c-e2ee-4b7e-e704-3e6ab5907c8a"
   },
   "outputs": [
    {
     "name": "stdout",
     "output_type": "stream",
     "text": [
      "Epoch 1/10\n",
      "73/73 [==============================] - 10s 67ms/step - loss: 3.9016\n",
      "Epoch 2/10\n",
      "73/73 [==============================] - 5s 65ms/step - loss: 2.7180\n",
      "Epoch 3/10\n",
      "73/73 [==============================] - 5s 66ms/step - loss: 2.3625\n",
      "Epoch 4/10\n",
      "73/73 [==============================] - 5s 69ms/step - loss: 2.1467\n",
      "Epoch 5/10\n",
      "73/73 [==============================] - 5s 65ms/step - loss: 1.9992\n",
      "Epoch 6/10\n",
      "73/73 [==============================] - 6s 78ms/step - loss: 1.8941\n",
      "Epoch 7/10\n",
      "73/73 [==============================] - 5s 67ms/step - loss: 1.7710\n",
      "Epoch 8/10\n",
      "73/73 [==============================] - 5s 65ms/step - loss: 1.6884\n",
      "Epoch 9/10\n",
      "73/73 [==============================] - 5s 70ms/step - loss: 1.6019\n",
      "Epoch 10/10\n",
      "73/73 [==============================] - 5s 69ms/step - loss: 1.5519\n"
     ]
    },
    {
     "data": {
      "text/plain": [
       "<keras.callbacks.History at 0x7eff3bbdeaa0>"
      ]
     },
     "execution_count": 37,
     "metadata": {},
     "output_type": "execute_result"
    }
   ],
   "source": [
    "model.fit(X, y, epochs=10)"
   ]
  },
  {
   "cell_type": "code",
   "execution_count": 25,
   "id": "d5274695",
   "metadata": {
    "id": "d5274695"
   },
   "outputs": [],
   "source": []
  },
  {
   "cell_type": "code",
   "execution_count": 45,
   "id": "DG2oYbLI21Nd",
   "metadata": {
    "id": "DG2oYbLI21Nd"
   },
   "outputs": [],
   "source": [
    "#izbacio dmol 2.5.9\n",
    "scales = {\n",
    "  \"c-major\": ['A3', 'B3', 'C3', 'D3', 'E3', 'F3', 'G3', '0.4.7','4.7.11', '5.9.0', '7.11.2', '9.0.4'],\n",
    "  \"c#-major\" : ['A#3', 'C3', 'C#3', 'D#3', 'F3', 'F#3', 'G#3', '1.5.8','5.8.12', '3.6.10', '6.10.0', '8.0.3', '10.1.5'],\n",
    "  \"d-major\": ['B3', 'C#3', 'D3', 'E3', 'F#3', 'G3', 'A3', '2.6.9','6.9.1', '4.7.11', '7.11.2', '9.1.4', '11.2.6'],\n",
    "  \"d#-major\": ['C3', 'D3', 'D#3', 'F3', 'G3', 'G#3', 'A#3', '3.7.10','7.10.2', '5.8.0', '8.0.3', '10.2.5', '10.1.5'],\n",
    "  \"e-major\": ['C#3', 'D#3', 'E3', 'F#3', 'G#3', 'A3', 'B3', '4.8.11','8.11.3', '6.9.1', '9.1.4', '11.3.6', '11.2.6'],\n",
    "  \"f-major\": ['D3', 'E3', 'F3', 'G3', 'A3', 'A#3', 'C3', '5.9.0','9.0.4', '7.10.2', '10.2.5', '0.4.7', '0.3.7'],\n",
    "  \"f#-major\": ['D#3', 'F3', 'F#3', 'G#3', 'A#3', 'B3', 'C#3', '6.10.1','10.1.5', '8.11.3', '11.3.6', '1.5.8', '1.4.8'],\n",
    "  \"g-major\": ['E3', 'F#3', 'G3', 'A3', 'B3', 'C3', 'D3', '7.11.2','11.2.6', '9.0.4', '0.4.7', '2.6.9', '2.5.9'],\n",
    "  \"g#-major\": ['F3', 'G3', 'G#3', 'A#3', 'C3', 'C#3', 'D#3', '8.0.3','0.3.7', '10.1.5', '1.5.8', '3.7.10', '3.6.10'],\n",
    "  \"a-major\": ['F#3', 'G#3', 'A3', 'B3', 'C#3', 'D3', 'E3', '9.1.4','1.4.8', '11.2.6', '2.6.9', '4.8.11', '4.7.11'],\n",
    "  \"a#-major\": ['G3', 'A3', 'A#3', 'C3', 'D3', 'D#3', 'F3', '10.2.5','2.5.9', '0.3.7', '3.7.10', '5.9.0', '5.8.0'],\n",
    "  \"b-major\": ['G#3', 'A#3', 'B3', 'C#3', 'D#3', 'E3', 'F#3', '11.3.6','3.6.10', '1.4.8', '4.8.11', '6.10.1', '6.9.1'],\n",
    "  \n",
    "  \"a-minor\": ['A3', 'B3', 'C3', 'D3', 'E3', 'F3', 'G3', '0.4.7','4.7.11', '2.5.9', '5.9.0', '7.11.2', '9.0.4'],\n",
    "  \"a#-minor\" : ['A#3', 'C3', 'C#3', 'D#3', 'F3', 'F#3', 'G#3', '1.5.8','5.8.12', '3.6.10', '6.10.0', '8.0.3', '10.1.5'],\n",
    "  \"b-minor\": ['B3', 'C#3', 'D3', 'E3', 'F#3', 'G3', 'A3', '2.6.9','6.9.1', '4.7.11', '7.11.2', '9.1.4', '11.2.6'],\n",
    "  \"c-minor\": ['C3', 'D3', 'D#3', 'F3', 'G3', 'G#3', 'A#3', '3.7.10','7.10.2', '5.8.0', '8.0.3', '10.2.5', '10.1.5'],\n",
    "  \"c#-minor\": ['C#3', 'D#3', 'E3', 'F#3', 'G#3', 'A3', 'B3', '4.8.11','8.11.3', '6.9.1', '9.1.4', '11.3.6', '11.2.6'],\n",
    "  \"d-minor\": ['D3', 'E3', 'F3', 'G3', 'A3', 'A#3', 'C3', '5.9.0','9.0.4', '7.10.2', '10.2.5', '0.4.7', '0.3.7'],\n",
    "  \"d#-minor\": ['D#3', 'F3', 'F#3', 'G#3', 'A#3', 'B3', 'C#3', '6.10.1','10.1.5', '8.11.3', '11.3.6', '1.5.8', '1.4.8'],\n",
    "  \"e-minor\": ['E3', 'F#3', 'G3', 'A3', 'B3', 'C3', 'D3', '7.11.2','11.2.6', '9.0.4', '0.4.7', '2.6.9', '2.5.9'],\n",
    "  \"f-minor\": ['F3', 'G3', 'G#3', 'A#3', 'C3', 'C#3', 'D#3', '8.0.3','0.3.7', '10.1.5', '1.5.8', '3.7.10', '3.6.10'],\n",
    "  \"f#-minor\": ['F#3', 'G#3', 'A3', 'B3', 'C#3', 'D3', 'E3', '9.1.4','1.4.8', '11.2.6', '2.6.9', '4.8.11', '4.7.11'],\n",
    "  \"g-minor\": ['G3', 'A3', 'A#3', 'C3', 'D3', 'D#3', 'F3', '10.2.5','2.5.9', '0.3.7', '3.7.10', '5.9.0', '5.8.0'],\n",
    "  \"g#-minor\": ['G#3', 'A#3', 'B3', 'C#3', 'D#3', 'E3', 'F#3', '11.3.6','3.6.10', '1.4.8', '4.8.11', '6.10.1', '6.9.1'],\n",
    "}\n"
   ]
  },
  {
   "cell_type": "code",
   "execution_count": 47,
   "id": "sxhCOjTk9IJ7",
   "metadata": {
    "colab": {
     "base_uri": "https://localhost:8080/"
    },
    "id": "sxhCOjTk9IJ7",
    "outputId": "f7c9c278-abf4-4213-a0d1-1d96f5b322a9"
   },
   "outputs": [
    {
     "name": "stdout",
     "output_type": "stream",
     "text": [
      "choose scalec-major\n"
     ]
    }
   ],
   "source": [
    "input_scale = input('choose scale')"
   ]
  },
  {
   "cell_type": "code",
   "execution_count": 48,
   "id": "ff91360a",
   "metadata": {
    "id": "ff91360a"
   },
   "outputs": [],
   "source": [
    "new_corpus = np.array([random.sample(scales[input_scale], input_len)])"
   ]
  },
  {
   "cell_type": "code",
   "execution_count": null,
   "id": "qEQFUt0LTa89",
   "metadata": {
    "id": "qEQFUt0LTa89"
   },
   "outputs": [],
   "source": []
  },
  {
   "cell_type": "code",
   "execution_count": 49,
   "id": "5CZPngEG-JbL",
   "metadata": {
    "colab": {
     "base_uri": "https://localhost:8080/"
    },
    "id": "5CZPngEG-JbL",
    "outputId": "3e3cb03d-e87b-44ca-c845-597f7c214c2b"
   },
   "outputs": [
    {
     "data": {
      "text/plain": [
       "(1, 4)"
      ]
     },
     "execution_count": 49,
     "metadata": {},
     "output_type": "execute_result"
    }
   ],
   "source": [
    "new_corpus.shape"
   ]
  },
  {
   "cell_type": "code",
   "execution_count": 50,
   "id": "ade243f3",
   "metadata": {
    "id": "ade243f3"
   },
   "outputs": [],
   "source": [
    "new_corpus = np.reshape(new_corpus, (len(new_corpus[0]), 1))"
   ]
  },
  {
   "cell_type": "code",
   "execution_count": 51,
   "id": "d43b4257",
   "metadata": {
    "colab": {
     "base_uri": "https://localhost:8080/"
    },
    "id": "d43b4257",
    "outputId": "1a0e2330-8c3b-4b4c-9c64-1c94990c2721"
   },
   "outputs": [
    {
     "data": {
      "text/plain": [
       "(4, 1)"
      ]
     },
     "execution_count": 51,
     "metadata": {},
     "output_type": "execute_result"
    }
   ],
   "source": [
    "new_corpus.shape"
   ]
  },
  {
   "cell_type": "code",
   "execution_count": 52,
   "id": "672caeb9",
   "metadata": {
    "id": "672caeb9"
   },
   "outputs": [],
   "source": [
    "one_hot_new_data = encoder.transform(new_corpus)\n",
    "one_hot_new_data = one_hot_new_data.toarray()"
   ]
  },
  {
   "cell_type": "code",
   "execution_count": 53,
   "id": "a248e847",
   "metadata": {
    "colab": {
     "base_uri": "https://localhost:8080/"
    },
    "id": "a248e847",
    "outputId": "5746c40e-9aea-49f1-8f84-2469c8a9aa8a"
   },
   "outputs": [
    {
     "data": {
      "text/plain": [
       "(4, 135)"
      ]
     },
     "execution_count": 53,
     "metadata": {},
     "output_type": "execute_result"
    }
   ],
   "source": [
    "one_hot_new_data.shape"
   ]
  },
  {
   "cell_type": "code",
   "execution_count": 54,
   "id": "48e30c36",
   "metadata": {
    "id": "48e30c36"
   },
   "outputs": [],
   "source": [
    "def funkcija(broj):\n",
    "    if broj > 0.2:\n",
    "        return 1\n",
    "    else:\n",
    "        return 0"
   ]
  },
  {
   "cell_type": "code",
   "execution_count": 55,
   "id": "a2bc9b7f",
   "metadata": {
    "id": "a2bc9b7f"
   },
   "outputs": [],
   "source": [
    "s = set({})"
   ]
  },
  {
   "cell_type": "code",
   "execution_count": 56,
   "id": "838511b2",
   "metadata": {
    "colab": {
     "base_uri": "https://localhost:8080/"
    },
    "id": "838511b2",
    "outputId": "5a8b0dc9-693b-48dd-abfe-ec49a50a8ffb"
   },
   "outputs": [
    {
     "data": {
      "text/plain": [
       "True"
      ]
     },
     "execution_count": 56,
     "metadata": {},
     "output_type": "execute_result"
    }
   ],
   "source": [
    "1 == 1.0"
   ]
  },
  {
   "cell_type": "code",
   "execution_count": null,
   "id": "gHjsxYqbRjrM",
   "metadata": {
    "id": "gHjsxYqbRjrM"
   },
   "outputs": [],
   "source": []
  },
  {
   "cell_type": "code",
   "execution_count": 57,
   "id": "1c3adda7",
   "metadata": {
    "id": "1c3adda7"
   },
   "outputs": [],
   "source": [
    "def three_in_a_row(new_note, one_hot_new_data, i):\n",
    "    entry = encoder.inverse_transform(new_note)\n",
    "    last = encoder.inverse_transform(one_hot_new_data[i-1:i])\n",
    "    before_last = encoder.inverse_transform(one_hot_new_data[i-2:i-1])\n",
    "    if entry != last or entry != before_last:\n",
    "        return False\n",
    "    return True"
   ]
  },
  {
   "cell_type": "code",
   "execution_count": null,
   "id": "adUIk1fCS48K",
   "metadata": {
    "id": "adUIk1fCS48K"
   },
   "outputs": [],
   "source": []
  },
  {
   "cell_type": "code",
   "execution_count": 58,
   "id": "d9202dc5",
   "metadata": {
    "id": "d9202dc5"
   },
   "outputs": [],
   "source": [
    "def choose_another_note(forbidden):\n",
    "    our_scale = set(scales[input_scale])\n",
    "    if np.any(forbidden):\n",
    "        forbidden = np.reshape(forbidden, (1, -1))\n",
    "        forbidden = encoder.inverse_transform(forbidden)\n",
    "        our_scale_valid = our_scale.difference({forbidden[0][0]})\n",
    "    else:\n",
    "        our_scale_valid = our_scale\n",
    "    new_note = np.array([random.choice(list(our_scale_valid))])\n",
    "    new_note = np.reshape(new_note, (len(new_note), 1))\n",
    "\n",
    "    new_note = encoder.transform(new_note)\n",
    "    new_note = new_note.toarray()\n",
    "    \n",
    "    return new_note\n",
    "    \n",
    "    "
   ]
  },
  {
   "cell_type": "code",
   "execution_count": 59,
   "id": "9c0997b4",
   "metadata": {
    "id": "9c0997b4"
   },
   "outputs": [],
   "source": [
    "def in_scale(new_note):\n",
    "    our_scale = set(scales[input_scale])\n",
    "    if encoder.inverse_transform(new_note)[0][0] not in our_scale:\n",
    "        return False\n",
    "    return True"
   ]
  },
  {
   "cell_type": "code",
   "execution_count": 60,
   "id": "dd28d852",
   "metadata": {
    "colab": {
     "base_uri": "https://localhost:8080/"
    },
    "id": "dd28d852",
    "outputId": "2a996058-e054-420b-b465-18d4eb515967"
   },
   "outputs": [
    {
     "data": {
      "text/plain": [
       "(4, 135)"
      ]
     },
     "execution_count": 60,
     "metadata": {},
     "output_type": "execute_result"
    }
   ],
   "source": [
    "one_hot_new_data.shape"
   ]
  },
  {
   "cell_type": "code",
   "execution_count": null,
   "id": "e5c8662b",
   "metadata": {},
   "outputs": [],
   "source": []
  },
  {
   "cell_type": "code",
   "execution_count": 61,
   "id": "c3f6760e",
   "metadata": {
    "id": "c3f6760e"
   },
   "outputs": [],
   "source": [
    "i = input_len"
   ]
  },
  {
   "cell_type": "code",
   "execution_count": 62,
   "id": "8c068878",
   "metadata": {
    "colab": {
     "base_uri": "https://localhost:8080/"
    },
    "id": "8c068878",
    "outputId": "10a078d5-e0bd-459f-dca8-daa4de84e12f"
   },
   "outputs": [
    {
     "name": "stdout",
     "output_type": "stream",
     "text": [
      "1/1 [==============================] - 1s 955ms/step\n",
      "1/1 [==============================] - 0s 41ms/step\n",
      "1/1 [==============================] - 0s 31ms/step\n",
      "1/1 [==============================] - 0s 29ms/step\n",
      "1/1 [==============================] - 0s 25ms/step\n",
      "1/1 [==============================] - 0s 28ms/step\n",
      "1/1 [==============================] - 0s 28ms/step\n",
      "1/1 [==============================] - 0s 40ms/step\n",
      "1/1 [==============================] - 0s 36ms/step\n",
      "1/1 [==============================] - 0s 36ms/step\n",
      "1/1 [==============================] - 0s 34ms/step\n",
      "1/1 [==============================] - 0s 35ms/step\n",
      "1/1 [==============================] - 0s 37ms/step\n",
      "1/1 [==============================] - 0s 39ms/step\n",
      "1/1 [==============================] - 0s 42ms/step\n",
      "1/1 [==============================] - 0s 40ms/step\n",
      "1/1 [==============================] - 0s 34ms/step\n",
      "1/1 [==============================] - 0s 26ms/step\n",
      "1/1 [==============================] - 0s 27ms/step\n",
      "1/1 [==============================] - 0s 32ms/step\n",
      "1/1 [==============================] - 0s 29ms/step\n",
      "1/1 [==============================] - 0s 31ms/step\n",
      "1/1 [==============================] - 0s 29ms/step\n",
      "1/1 [==============================] - 0s 32ms/step\n",
      "1/1 [==============================] - 0s 26ms/step\n",
      "1/1 [==============================] - 0s 26ms/step\n",
      "1/1 [==============================] - 0s 26ms/step\n",
      "1/1 [==============================] - 0s 26ms/step\n",
      "1/1 [==============================] - 0s 28ms/step\n",
      "1/1 [==============================] - 0s 29ms/step\n",
      "1/1 [==============================] - 0s 31ms/step\n",
      "1/1 [==============================] - 0s 26ms/step\n",
      "1/1 [==============================] - 0s 42ms/step\n",
      "1/1 [==============================] - 0s 29ms/step\n",
      "1/1 [==============================] - 0s 33ms/step\n",
      "1/1 [==============================] - 0s 27ms/step\n",
      "1/1 [==============================] - 0s 26ms/step\n",
      "1/1 [==============================] - 0s 28ms/step\n",
      "1/1 [==============================] - 0s 26ms/step\n",
      "1/1 [==============================] - 0s 26ms/step\n",
      "1/1 [==============================] - 0s 31ms/step\n",
      "1/1 [==============================] - 0s 30ms/step\n",
      "1/1 [==============================] - 0s 27ms/step\n",
      "1/1 [==============================] - 0s 28ms/step\n",
      "1/1 [==============================] - 0s 31ms/step\n",
      "1/1 [==============================] - 0s 26ms/step\n",
      "1/1 [==============================] - 0s 28ms/step\n",
      "1/1 [==============================] - 0s 26ms/step\n",
      "1/1 [==============================] - 0s 26ms/step\n",
      "1/1 [==============================] - 0s 30ms/step\n",
      "1/1 [==============================] - 0s 27ms/step\n",
      "1/1 [==============================] - 0s 26ms/step\n",
      "1/1 [==============================] - 0s 28ms/step\n",
      "1/1 [==============================] - 0s 26ms/step\n",
      "1/1 [==============================] - 0s 27ms/step\n",
      "1/1 [==============================] - 0s 31ms/step\n",
      "1/1 [==============================] - 0s 30ms/step\n",
      "1/1 [==============================] - 0s 27ms/step\n",
      "1/1 [==============================] - 0s 27ms/step\n",
      "1/1 [==============================] - 0s 27ms/step\n",
      "1/1 [==============================] - 0s 26ms/step\n",
      "1/1 [==============================] - 0s 26ms/step\n",
      "1/1 [==============================] - 0s 28ms/step\n",
      "1/1 [==============================] - 0s 26ms/step\n",
      "1/1 [==============================] - 0s 29ms/step\n",
      "1/1 [==============================] - 0s 26ms/step\n",
      "1/1 [==============================] - 0s 26ms/step\n",
      "1/1 [==============================] - 0s 29ms/step\n",
      "1/1 [==============================] - 0s 27ms/step\n",
      "1/1 [==============================] - 0s 26ms/step\n",
      "1/1 [==============================] - 0s 25ms/step\n",
      "1/1 [==============================] - 0s 28ms/step\n",
      "1/1 [==============================] - 0s 27ms/step\n",
      "1/1 [==============================] - 0s 30ms/step\n",
      "1/1 [==============================] - 0s 27ms/step\n",
      "1/1 [==============================] - 0s 26ms/step\n",
      "1/1 [==============================] - 0s 28ms/step\n",
      "1/1 [==============================] - 0s 30ms/step\n",
      "1/1 [==============================] - 0s 26ms/step\n",
      "1/1 [==============================] - 0s 27ms/step\n",
      "1/1 [==============================] - 0s 28ms/step\n",
      "1/1 [==============================] - 0s 27ms/step\n",
      "1/1 [==============================] - 0s 27ms/step\n",
      "1/1 [==============================] - 0s 26ms/step\n",
      "1/1 [==============================] - 0s 28ms/step\n",
      "1/1 [==============================] - 0s 27ms/step\n",
      "1/1 [==============================] - 0s 27ms/step\n",
      "1/1 [==============================] - 0s 26ms/step\n",
      "1/1 [==============================] - 0s 28ms/step\n",
      "1/1 [==============================] - 0s 30ms/step\n",
      "1/1 [==============================] - 0s 28ms/step\n",
      "1/1 [==============================] - 0s 28ms/step\n",
      "1/1 [==============================] - 0s 30ms/step\n",
      "1/1 [==============================] - 0s 28ms/step\n",
      "1/1 [==============================] - 0s 27ms/step\n",
      "1/1 [==============================] - 0s 27ms/step\n",
      "1/1 [==============================] - 0s 26ms/step\n",
      "1/1 [==============================] - 0s 26ms/step\n",
      "1/1 [==============================] - 0s 28ms/step\n",
      "1/1 [==============================] - 0s 26ms/step\n",
      "1/1 [==============================] - 0s 27ms/step\n",
      "1/1 [==============================] - 0s 26ms/step\n",
      "1/1 [==============================] - 0s 26ms/step\n",
      "1/1 [==============================] - 0s 27ms/step\n",
      "1/1 [==============================] - 0s 31ms/step\n",
      "1/1 [==============================] - 0s 27ms/step\n",
      "1/1 [==============================] - 0s 27ms/step\n",
      "1/1 [==============================] - 0s 26ms/step\n"
     ]
    }
   ],
   "source": [
    "while i < 112:\n",
    "    new_note = model.predict(np.reshape(one_hot_new_data[i-input_len:i], (1, input_len, one_hot_data.shape[1])))\n",
    "    new_note = np.array(list(map(funkcija, new_note[0])))\n",
    "    new_note = np.reshape(new_note, (1, one_hot_data.shape[1]))\n",
    "    \n",
    "    \n",
    "    while not np.any(new_note[0]) or not in_scale(new_note) or three_in_a_row(new_note, one_hot_new_data, i):\n",
    "        new_note = choose_another_note(new_note[0])\n",
    "        new_note = np.array(list(map(funkcija, new_note[0])))\n",
    "        new_note = np.reshape(new_note, (1, one_hot_data.shape[1]))\n",
    "    one_hot_new_data = np.append(one_hot_new_data, new_note, axis=0)\n",
    "    i += 1\n",
    "\n"
   ]
  },
  {
   "cell_type": "code",
   "execution_count": 63,
   "id": "8c8e3bc6",
   "metadata": {
    "id": "8c8e3bc6"
   },
   "outputs": [],
   "source": [
    "one_hot_new_data = encoder.inverse_transform(one_hot_new_data)"
   ]
  },
  {
   "cell_type": "code",
   "execution_count": 64,
   "id": "53f38b9b",
   "metadata": {
    "colab": {
     "base_uri": "https://localhost:8080/"
    },
    "id": "53f38b9b",
    "outputId": "3dbf8fa3-e9f7-4b05-b550-b72f172b14d7"
   },
   "outputs": [
    {
     "data": {
      "text/plain": [
       "array([['4.7.11'],\n",
       "       ['A3'],\n",
       "       ['G3'],\n",
       "       ['B3'],\n",
       "       ['9.0.4'],\n",
       "       ['A3'],\n",
       "       ['A3'],\n",
       "       ['B3'],\n",
       "       ['A3'],\n",
       "       ['A3'],\n",
       "       ['B3'],\n",
       "       ['A3'],\n",
       "       ['0.4.7'],\n",
       "       ['B3'],\n",
       "       ['D3'],\n",
       "       ['D3'],\n",
       "       ['4.7.11'],\n",
       "       ['D3'],\n",
       "       ['G3'],\n",
       "       ['G3'],\n",
       "       ['9.0.4'],\n",
       "       ['C3'],\n",
       "       ['9.0.4'],\n",
       "       ['9.0.4'],\n",
       "       ['B3'],\n",
       "       ['A3'],\n",
       "       ['0.4.7'],\n",
       "       ['D3'],\n",
       "       ['G3'],\n",
       "       ['7.11.2'],\n",
       "       ['E3'],\n",
       "       ['C3'],\n",
       "       ['A3'],\n",
       "       ['A3'],\n",
       "       ['7.11.2'],\n",
       "       ['A3'],\n",
       "       ['A3'],\n",
       "       ['9.0.4'],\n",
       "       ['A3'],\n",
       "       ['A3'],\n",
       "       ['4.7.11'],\n",
       "       ['A3'],\n",
       "       ['5.9.0'],\n",
       "       ['7.11.2'],\n",
       "       ['B3'],\n",
       "       ['0.4.7'],\n",
       "       ['7.11.2'],\n",
       "       ['D3'],\n",
       "       ['F3'],\n",
       "       ['4.7.11'],\n",
       "       ['C3'],\n",
       "       ['A3'],\n",
       "       ['G3'],\n",
       "       ['9.0.4'],\n",
       "       ['A3'],\n",
       "       ['A3'],\n",
       "       ['0.4.7'],\n",
       "       ['A3'],\n",
       "       ['A3'],\n",
       "       ['9.0.4'],\n",
       "       ['A3'],\n",
       "       ['A3'],\n",
       "       ['F3'],\n",
       "       ['A3'],\n",
       "       ['A3'],\n",
       "       ['F3'],\n",
       "       ['E3'],\n",
       "       ['D3'],\n",
       "       ['G3'],\n",
       "       ['G3'],\n",
       "       ['7.11.2'],\n",
       "       ['C3'],\n",
       "       ['9.0.4'],\n",
       "       ['9.0.4'],\n",
       "       ['A3'],\n",
       "       ['A3'],\n",
       "       ['F3'],\n",
       "       ['A3'],\n",
       "       ['C3'],\n",
       "       ['F3'],\n",
       "       ['C3'],\n",
       "       ['C3'],\n",
       "       ['G3'],\n",
       "       ['C3'],\n",
       "       ['C3'],\n",
       "       ['D3'],\n",
       "       ['A3'],\n",
       "       ['B3'],\n",
       "       ['D3'],\n",
       "       ['7.11.2'],\n",
       "       ['A3'],\n",
       "       ['D3'],\n",
       "       ['C3'],\n",
       "       ['C3'],\n",
       "       ['A3'],\n",
       "       ['5.9.0'],\n",
       "       ['A3'],\n",
       "       ['A3'],\n",
       "       ['7.11.2'],\n",
       "       ['G3'],\n",
       "       ['A3'],\n",
       "       ['A3'],\n",
       "       ['F3'],\n",
       "       ['A3'],\n",
       "       ['A3'],\n",
       "       ['F3'],\n",
       "       ['A3'],\n",
       "       ['A3'],\n",
       "       ['E3'],\n",
       "       ['A3'],\n",
       "       ['A3'],\n",
       "       ['E3']], dtype='<U6')"
      ]
     },
     "execution_count": 64,
     "metadata": {},
     "output_type": "execute_result"
    }
   ],
   "source": [
    "one_hot_new_data"
   ]
  },
  {
   "cell_type": "code",
   "execution_count": 65,
   "id": "1ebb2af7",
   "metadata": {
    "colab": {
     "base_uri": "https://localhost:8080/"
    },
    "id": "1ebb2af7",
    "outputId": "46e631b1-1944-4237-c053-acce8a0e7d81"
   },
   "outputs": [
    {
     "data": {
      "text/plain": [
       "(112, 1)"
      ]
     },
     "execution_count": 65,
     "metadata": {},
     "output_type": "execute_result"
    }
   ],
   "source": [
    "one_hot_new_data.shape"
   ]
  },
  {
   "cell_type": "code",
   "execution_count": 66,
   "id": "1364280e",
   "metadata": {
    "id": "1364280e"
   },
   "outputs": [],
   "source": [
    "def chords_n_notes(Snippet):\n",
    "    Melody = []\n",
    "    offset = 0 #Incremental\n",
    "    for i in Snippet:\n",
    "        #If it is chord\n",
    "        if (\".\" in i or i.isdigit()):\n",
    "            chord_notes = i.split(\".\") #Seperating the notes in chord\n",
    "            notes = [] \n",
    "            for j in chord_notes:\n",
    "                inst_note=int(j)\n",
    "                note_snip = note.Note(inst_note)            \n",
    "                notes.append(note_snip)\n",
    "                chord_snip = chord.Chord(notes)\n",
    "                chord_snip.offset = offset\n",
    "                Melody.append(chord_snip)\n",
    "        # pattern is a note\n",
    "        else: \n",
    "            note_snip = note.Note(i)\n",
    "            note_snip.offset = offset\n",
    "            Melody.append(note_snip)\n",
    "        # increase offset each iteration so that notes do not stack\n",
    "        offset += 1\n",
    "    Melody_midi = stream.Stream(Melody)   \n",
    "    return Melody_midi"
   ]
  },
  {
   "cell_type": "code",
   "execution_count": 67,
   "id": "c9e4d205",
   "metadata": {
    "id": "c9e4d205"
   },
   "outputs": [],
   "source": [
    "Melody = chords_n_notes(one_hot_new_data.reshape(112, ))"
   ]
  },
  {
   "cell_type": "code",
   "execution_count": 68,
   "id": "5550876a",
   "metadata": {
    "id": "5550876a"
   },
   "outputs": [],
   "source": [
    "Melody_midy = stream.Stream(Melody)"
   ]
  },
  {
   "cell_type": "code",
   "execution_count": 69,
   "id": "3d268638",
   "metadata": {
    "colab": {
     "base_uri": "https://localhost:8080/",
     "height": 35
    },
    "id": "3d268638",
    "outputId": "a585b6f7-aea2-4f77-cd01-2dffd1a6c348"
   },
   "outputs": [
    {
     "data": {
      "text/plain": [
       "'Melody_Generated_Better1.mid'"
      ]
     },
     "execution_count": 69,
     "metadata": {},
     "output_type": "execute_result"
    }
   ],
   "source": [
    "Melody.write('midi','Melody_Generated_Better1.mid')"
   ]
  },
  {
   "cell_type": "code",
   "execution_count": null,
   "id": "d782f6e1",
   "metadata": {
    "id": "d782f6e1",
    "outputId": "5a32692c-ea10-402e-845d-0c756d548a04"
   },
   "outputs": [
    {
     "name": "stdout",
     "output_type": "stream",
     "text": [
      "Sample Audio From Data\n"
     ]
    },
    {
     "ename": "ValueError",
     "evalue": "rate must be specified when data is a numpy array or list of audio samples.",
     "output_type": "error",
     "traceback": [
      "\u001b[0;31m---------------------------------------------------------------------------\u001b[0m",
      "\u001b[0;31mValueError\u001b[0m                                Traceback (most recent call last)",
      "Cell \u001b[0;32mIn[212], line 2\u001b[0m\n\u001b[1;32m      1\u001b[0m \u001b[38;5;28mprint\u001b[39m(\u001b[38;5;124m\"\u001b[39m\u001b[38;5;124mSample Audio From Data\u001b[39m\u001b[38;5;124m\"\u001b[39m)\n\u001b[0;32m----> 2\u001b[0m \u001b[43mIPython\u001b[49m\u001b[38;5;241;43m.\u001b[39;49m\u001b[43mdisplay\u001b[49m\u001b[38;5;241;43m.\u001b[39;49m\u001b[43mAudio\u001b[49m\u001b[43m(\u001b[49m\u001b[38;5;124;43m\"\u001b[39;49m\u001b[38;5;124;43mMelody_Generated.mid\u001b[39;49m\u001b[38;5;124;43m\"\u001b[39;49m\u001b[43m)\u001b[49m \n",
      "File \u001b[0;32m~/.local/lib/python3.10/site-packages/IPython/lib/display.py:129\u001b[0m, in \u001b[0;36mAudio.__init__\u001b[0;34m(self, data, filename, url, embed, rate, autoplay, normalize, element_id)\u001b[0m\n\u001b[1;32m    127\u001b[0m \u001b[38;5;28;01mif\u001b[39;00m \u001b[38;5;28mself\u001b[39m\u001b[38;5;241m.\u001b[39mdata \u001b[38;5;129;01mis\u001b[39;00m \u001b[38;5;129;01mnot\u001b[39;00m \u001b[38;5;28;01mNone\u001b[39;00m \u001b[38;5;129;01mand\u001b[39;00m \u001b[38;5;129;01mnot\u001b[39;00m \u001b[38;5;28misinstance\u001b[39m(\u001b[38;5;28mself\u001b[39m\u001b[38;5;241m.\u001b[39mdata, \u001b[38;5;28mbytes\u001b[39m):\n\u001b[1;32m    128\u001b[0m     \u001b[38;5;28;01mif\u001b[39;00m rate \u001b[38;5;129;01mis\u001b[39;00m \u001b[38;5;28;01mNone\u001b[39;00m:\n\u001b[0;32m--> 129\u001b[0m         \u001b[38;5;28;01mraise\u001b[39;00m \u001b[38;5;167;01mValueError\u001b[39;00m(\u001b[38;5;124m\"\u001b[39m\u001b[38;5;124mrate must be specified when data is a numpy array or list of audio samples.\u001b[39m\u001b[38;5;124m\"\u001b[39m)\n\u001b[1;32m    130\u001b[0m     \u001b[38;5;28mself\u001b[39m\u001b[38;5;241m.\u001b[39mdata \u001b[38;5;241m=\u001b[39m Audio\u001b[38;5;241m.\u001b[39m_make_wav(data, rate, normalize)\n",
      "\u001b[0;31mValueError\u001b[0m: rate must be specified when data is a numpy array or list of audio samples."
     ]
    }
   ],
   "source": [
    "print(\"Sample Audio From Data\")\n",
    "IPython.display.Audio(\"Melody_Generated.mid\") \n"
   ]
  },
  {
   "cell_type": "code",
   "execution_count": null,
   "id": "70957bce",
   "metadata": {
    "id": "70957bce"
   },
   "outputs": [],
   "source": []
  }
 ],
 "metadata": {
  "colab": {
   "provenance": []
  },
  "kernelspec": {
   "display_name": "Python 3 (ipykernel)",
   "language": "python",
   "name": "python3"
  },
  "language_info": {
   "codemirror_mode": {
    "name": "ipython",
    "version": 3
   },
   "file_extension": ".py",
   "mimetype": "text/x-python",
   "name": "python",
   "nbconvert_exporter": "python",
   "pygments_lexer": "ipython3",
   "version": "3.10.6"
  }
 },
 "nbformat": 4,
 "nbformat_minor": 5
}
