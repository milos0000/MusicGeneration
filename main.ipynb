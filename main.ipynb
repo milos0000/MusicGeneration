{
  "cells": [
    {
      "cell_type": "code",
      "execution_count": 1,
      "id": "34fbb1e3",
      "metadata": {
        "id": "34fbb1e3"
      },
      "outputs": [],
      "source": [
        "from music21 import *\n",
        "import tensorflow\n",
        "import sys\n",
        "import os\n",
        "import IPython\n",
        "from keras.models import Sequential\n",
        "from keras.layers import Dense,LSTM,Dropout\n",
        "import keras\n",
        "from sklearn.metrics import mean_squared_error\n",
        "import numpy as np\n",
        "from sklearn.preprocessing import OneHotEncoder\n",
        "import random"
      ]
    },
    {
      "cell_type": "code",
      "source": [],
      "metadata": {
        "id": "Pxtej6UxpNhR"
      },
      "id": "Pxtej6UxpNhR",
      "execution_count": null,
      "outputs": []
    },
    {
      "cell_type": "code",
      "execution_count": 2,
      "id": "e3074d81",
      "metadata": {
        "id": "e3074d81"
      },
      "outputs": [],
      "source": [
        "environment.set('musescoreDirectPNGPath', 'MuseScore-4.0.1.230121751-x86_64.AppImage')"
      ]
    },
    {
      "cell_type": "code",
      "execution_count": 3,
      "id": "afb77745",
      "metadata": {
        "id": "afb77745"
      },
      "outputs": [],
      "source": [
        "filepath = \"./\""
      ]
    },
    {
      "cell_type": "code",
      "execution_count": 6,
      "id": "faefff0c",
      "metadata": {
        "colab": {
          "base_uri": "https://localhost:8080/"
        },
        "id": "faefff0c",
        "outputId": "203a5bc5-9820-4d1f-b48c-df3d0fcefe8c"
      },
      "outputs": [
        {
          "output_type": "stream",
          "name": "stdout",
          "text": [
            "./Spice_Girls_-_Viva_Forever.mid\n",
            "./Bee_Gees_-_To_Love_Somebody.mid\n",
            "./x (9).mid\n",
            "./Christina_Aguilera_-_Come_On_Over.mid\n",
            "./Blur_-_Charmless_Man.mid\n",
            "./Enya_-_Bard_Dance.mid\n",
            "./The_Temptations_-_Get_Ready.mid\n",
            "./x (29).mid\n",
            "./x (14).mid\n",
            "./Harry_Chapin_-_Cats_In_The_Cradle.mid\n",
            "./Oasis_-_Live_Forever.mid\n",
            "./Michael_Jackson_-_Beat_It.mid\n",
            "./Phil_Collins_-_In_the_Air_Tonight.mid\n",
            "./Marvin_Gaye_-_Mercy_Mercy_Me.mid\n",
            "./Mason_Williams_-_Classical_Gas.mid\n",
            "./x (32).mid\n",
            "./Mary_Wells_-_My_Guy.mid\n",
            "./Oasis_-_Talk_Tonight.mid\n",
            "./Celine_Dion_-_Falling_Into_You.mid\n",
            "./Chicago_-_Does_Anybody_Really_Know.mid\n",
            "./x (15).mid\n",
            "./Oasis_-_Whatever.mid\n",
            "./x (37).mid\n",
            "./Bee_Gees_-_Stayin_Alive.mid\n",
            "./The_Monkees_-_I'm_A_Believer.mid\n",
            "./Mariah_Carey_-_Thank_God_I_Found_You.mid\n",
            "./Bee_Gees_-_More_Than_A_Woman.mid\n",
            "./Paul_McCartney_-_Band_On_The_Run.mid\n",
            "./Marc_Anthony_-_I_Need_to_Know.mid\n",
            "./Brian_McKnight_-_Back_At_One.mid\n",
            "./Tina_Turner_-_Nutbush_City_Limits.mid\n",
            "./Destinys_Child_-_Jumpin_Jumpin.mid\n",
            "./x (38).mid\n",
            "./Lionel_Richie_-_Endless_Love.mid\n",
            "./Terrence_Trent_D'Arby_-_Wishing_Well.mid\n",
            "./x (7).mid\n",
            "./x (12).mid\n",
            "./Harry_Nilsson_-_Without_You.mid\n",
            "./Eve_6_-_Inside_Out.mid\n",
            "./The_Temptations_-_Ball_of_Confusion.mid\n",
            "./one_direction_-_One_Thing.mid\n",
            "./Billy_Joel_-_You_May_Be_Right.mid\n",
            "./Spice_Girls_-_Wannabe.mid\n",
            "./x (8).mid\n",
            "./Bruno_Mars_-_.mid\n",
            "./Morris_Albert_-_Feelings.mid\n",
            "./x (6).mid\n",
            "./Marc_Anthony_-_Vivir_lo_Nuestro.mid\n",
            "./Sting_-_If_I_Ever_Lose_My_Faith_in_You.mid\n",
            "./Phil_Collins_-_Sussudio.mid\n",
            "./one_direction_-_Up_All_Night.mid\n",
            "./Lady_Gaga_-_poker_face.mid\n",
            "./Spice_Girls_-_Say_You'll_Be_There.mid\n",
            "./Bruno_Mars_-_Marry_You.mid\n",
            "./Harold_Melvin_-_If_You_Dont_Know_Me_By_Now.mid\n",
            "./The_Monkees_-_Valleri.mid\n",
            "./x (34).mid\n",
            "./one_direction_-_Perfect.mid\n",
            "./The_Zombies_-_She's_Not_There.mid\n",
            "./x (24).mid\n",
            "./Spice_Girls_-_Too_Much.mid\n",
            "./x (33).mid\n",
            "./The_Monkees_-_Last_Train_To_Clarkesville.mid\n",
            "./The_Monkees_-_I'm_Not_Your_Stepping_Stone.mid\n",
            "./x (41).mid\n",
            "./Cranberries_-_Zombie.mid\n",
            "./Marc_Anthony_-_You_Sang_to_Me.mid\n",
            "./Backstreet_Boys_-_No_One_Else_Comes_Close.mid\n",
            "./Mary_Hopkins_-_Those_Were_the_Days.mid\n",
            "./Oasis_-_Shakermaker.mid\n",
            "./Third_Eye_Blind_-_Never_Let_You_Go.mid\n",
            "./x (39).mid\n",
            "./Harry_Belafonte_-_Banana_Boat.mid\n",
            "./TLC_-_No_Scrubs.mid\n",
            "./Our_Lady_Peace_-_Starseed.mid\n",
            "./x (45).mid\n",
            "./The_Fugees_-_Killing_Me_Softly.mid\n",
            "./The_Monkees_-_Pleasant_Valley_Sunday.mid\n",
            "./Bjork_-_Hyper_Ballad.mid\n",
            "./Spice_Girls_-_Naked.mid\n",
            "./The_Temptations_-_The_Way_You_Do_the_Things_You_Do.mid\n",
            "./x (13).mid\n",
            "./Mel_C_-_Northern_Star.mid\n",
            "./Michael_Jackson_-_Billie_Jean.mid\n",
            "./Mariah_Carey_-_Fantasy.mid\n",
            "./x (2).mid\n",
            "./Mandy_Moore_-_Candy.mid\n",
            "./The_Carpenters_-_For_All_We_Know.mid\n",
            "./x (35).mid\n",
            "./Enya_-_Carribean_Blue.mid\n",
            "./x (11).mid\n",
            "./The_Temptations_-_My_Girl.mid\n",
            "./x (27).mid\n",
            "./Marcy_Playground_-_Sex_And_Candy.mid\n",
            "./x (47).mid\n",
            "./x (26).mid\n",
            "./Spice_Girls_-_Never_Give_Up_on_the_Good.mid\n",
            "./Blur_-_Country_House.mid\n"
          ]
        }
      ],
      "source": [
        "all_midis= []\n",
        "names = []\n",
        "j = 0\n",
        "for i in os.listdir(filepath):\n",
        "    if j > 100:\n",
        "      break\n",
        "    if i.endswith(\".mid\"):\n",
        "        tr = filepath + i\n",
        "        print(tr)\n",
        "        names.append(tr)\n",
        "        midi = converter.parse(tr)\n",
        "        all_midis.append(midi)\n",
        "    j += 1\n",
        "        "
      ]
    },
    {
      "cell_type": "code",
      "execution_count": 7,
      "id": "26c2089d",
      "metadata": {
        "id": "26c2089d"
      },
      "outputs": [],
      "source": [
        "def extract_notes(files):\n",
        "    notes = []\n",
        "    pick = None\n",
        "    for f in files:\n",
        "        #songs = instrument.partitionByInstrument(f)\n",
        "        for part in f.parts:\n",
        "            pick = part.recurse()\n",
        "            for element in pick:\n",
        "                if isinstance(element, note.Note):\n",
        "                    notes.append(str(element.pitch))\n",
        "                elif isinstance(element, chord.Chord):\n",
        "                    notes.append(\".\".join(str(n) for n in element.normalOrder))\n",
        "\n",
        "    return notes\n",
        "#Getting the list of notes as Corpus\n",
        "Corpus= np.array(extract_notes(all_midis))\n",
        "#print(\"Total notes in all the Mozzart midis in the dataset:\", len(Corpus))"
      ]
    },
    {
      "cell_type": "code",
      "execution_count": 8,
      "id": "48f98910",
      "metadata": {
        "id": "48f98910"
      },
      "outputs": [],
      "source": [
        "Corpus = np.reshape(Corpus, (len(Corpus), 1))"
      ]
    },
    {
      "cell_type": "code",
      "execution_count": 9,
      "id": "ff3747f0",
      "metadata": {
        "colab": {
          "base_uri": "https://localhost:8080/"
        },
        "id": "ff3747f0",
        "outputId": "acdfc716-eddd-4fdf-8ffc-1c3a6f070c80"
      },
      "outputs": [
        {
          "output_type": "execute_result",
          "data": {
            "text/plain": [
              "(165267, 1)"
            ]
          },
          "metadata": {},
          "execution_count": 9
        }
      ],
      "source": [
        "Corpus.shape"
      ]
    },
    {
      "cell_type": "code",
      "execution_count": 10,
      "id": "1ed24110",
      "metadata": {
        "colab": {
          "base_uri": "https://localhost:8080/"
        },
        "id": "1ed24110",
        "outputId": "b57f89dd-f02f-4212-fd5c-6a5074d5f812"
      },
      "outputs": [
        {
          "output_type": "execute_result",
          "data": {
            "text/plain": [
              "array([['3.6.10'],\n",
              "       ['3.6.10'],\n",
              "       ['10.1.5'],\n",
              "       ...,\n",
              "       ['9.1.4'],\n",
              "       ['9.1.4'],\n",
              "       ['9.1.4']], dtype='<U25')"
            ]
          },
          "metadata": {},
          "execution_count": 10
        }
      ],
      "source": [
        "Corpus"
      ]
    },
    {
      "cell_type": "code",
      "execution_count": 11,
      "id": "ce1b4dda",
      "metadata": {
        "colab": {
          "base_uri": "https://localhost:8080/"
        },
        "id": "ce1b4dda",
        "outputId": "282b2ce4-d42b-4ea9-98e2-185535b9b93a"
      },
      "outputs": [
        {
          "output_type": "execute_result",
          "data": {
            "text/plain": [
              "1348"
            ]
          },
          "metadata": {},
          "execution_count": 11
        }
      ],
      "source": [
        "len(list(filter(lambda x : x == 'C3', Corpus)))"
      ]
    },
    {
      "cell_type": "code",
      "execution_count": 12,
      "id": "cd5f9adc",
      "metadata": {
        "colab": {
          "base_uri": "https://localhost:8080/"
        },
        "id": "cd5f9adc",
        "outputId": "05793b60-32b3-4bcd-adc1-dea0bf7dbb93"
      },
      "outputs": [
        {
          "output_type": "stream",
          "name": "stdout",
          "text": [
            "[[0. 0. 0. ... 0. 0. 0.]\n",
            " [0. 0. 0. ... 0. 0. 0.]\n",
            " [0. 0. 0. ... 0. 0. 0.]\n",
            " ...\n",
            " [0. 0. 0. ... 0. 0. 0.]\n",
            " [0. 0. 0. ... 0. 0. 0.]\n",
            " [0. 0. 0. ... 0. 0. 0.]]\n"
          ]
        }
      ],
      "source": [
        "# Initialize OneHotEncoder object\n",
        "encoder = OneHotEncoder()\n",
        "\n",
        "# Fit and transform the data\n",
        "one_hot_data = encoder.fit_transform(Corpus)\n",
        "\n",
        "# Convert sparse matrix to array\n",
        "one_hot_data = one_hot_data.toarray()\n",
        "\n",
        "# Print the one-hot encoded data\n",
        "print(one_hot_data)"
      ]
    },
    {
      "cell_type": "code",
      "execution_count": 13,
      "id": "c61bcec0",
      "metadata": {
        "colab": {
          "base_uri": "https://localhost:8080/"
        },
        "id": "c61bcec0",
        "outputId": "fa8e6091-a2b8-4553-9576-a1f75ad0c287"
      },
      "outputs": [
        {
          "output_type": "execute_result",
          "data": {
            "text/plain": [
              "(165267, 555)"
            ]
          },
          "metadata": {},
          "execution_count": 13
        }
      ],
      "source": [
        "one_hot_data.shape"
      ]
    },
    {
      "cell_type": "code",
      "execution_count": 14,
      "id": "879d620d",
      "metadata": {
        "id": "879d620d"
      },
      "outputs": [],
      "source": [
        "input_len = 5"
      ]
    },
    {
      "cell_type": "code",
      "execution_count": 15,
      "id": "f5196b42",
      "metadata": {
        "id": "f5196b42"
      },
      "outputs": [],
      "source": [
        "def getXy(data, step):\n",
        "    y_ind = np.arange(step, len(data), step)\n",
        "    y = data[y_ind]\n",
        "    rows_x = len(y)\n",
        "    X = data[range(rows_x * step)]\n",
        "    X = np.reshape(X, (rows_x, step, one_hot_data.shape[1]))\n",
        "    return X, y"
      ]
    },
    {
      "cell_type": "code",
      "execution_count": 16,
      "id": "ce1d850a",
      "metadata": {
        "colab": {
          "base_uri": "https://localhost:8080/"
        },
        "id": "ce1d850a",
        "outputId": "f2292380-a181-417f-c4ce-0a746904caab"
      },
      "outputs": [
        {
          "output_type": "stream",
          "name": "stdout",
          "text": [
            "165267\n"
          ]
        },
        {
          "output_type": "execute_result",
          "data": {
            "text/plain": [
              "(33053, 555)"
            ]
          },
          "metadata": {},
          "execution_count": 16
        }
      ],
      "source": [
        "print(len(one_hot_data))\n",
        "indeksi = np.arange(input_len, len(one_hot_data),input_len)\n",
        "one_hot_data[indeksi].shape"
      ]
    },
    {
      "cell_type": "code",
      "execution_count": 17,
      "id": "8516548b",
      "metadata": {
        "id": "8516548b"
      },
      "outputs": [],
      "source": [
        "X, y = getXy(one_hot_data, input_len)"
      ]
    },
    {
      "cell_type": "code",
      "execution_count": 18,
      "id": "5e68d0cb",
      "metadata": {
        "colab": {
          "base_uri": "https://localhost:8080/"
        },
        "id": "5e68d0cb",
        "outputId": "614da27a-04cf-489c-cc27-f09416e68b40"
      },
      "outputs": [
        {
          "output_type": "execute_result",
          "data": {
            "text/plain": [
              "(33053, 5, 555)"
            ]
          },
          "metadata": {},
          "execution_count": 18
        }
      ],
      "source": [
        "X.shape"
      ]
    },
    {
      "cell_type": "code",
      "execution_count": 19,
      "id": "8e9994d5",
      "metadata": {
        "colab": {
          "base_uri": "https://localhost:8080/"
        },
        "id": "8e9994d5",
        "outputId": "a980bbb2-d5ce-4ef8-e146-17f72b63b00f"
      },
      "outputs": [
        {
          "output_type": "execute_result",
          "data": {
            "text/plain": [
              "(33053, 555)"
            ]
          },
          "metadata": {},
          "execution_count": 19
        }
      ],
      "source": [
        "y.shape"
      ]
    },
    {
      "cell_type": "code",
      "execution_count": 20,
      "id": "9b0d6985",
      "metadata": {
        "id": "9b0d6985"
      },
      "outputs": [],
      "source": [
        "def create_RNN(hidden_units, dense_units, input_shape, activation):\n",
        "    model = Sequential()\n",
        "    model.add(LSTM(hidden_units, input_shape=input_shape, return_sequences=True))\n",
        "    model.add(Dropout(0.1))\n",
        "    model.add(LSTM(int(hidden_units/2)))\n",
        "    model.add(Dense(units=dense_units))\n",
        "    model.add(Dropout(0.1))\n",
        "    model.add(Dense(units=one_hot_data.shape[1], activation='softmax'))\n",
        "    model.compile(loss=tensorflow.losses.CategoricalCrossentropy(), optimizer='adam')\n",
        "    return model"
      ]
    },
    {
      "cell_type": "code",
      "execution_count": 21,
      "id": "692fe227",
      "metadata": {
        "id": "692fe227"
      },
      "outputs": [],
      "source": [
        "model = create_RNN(516, 164, input_shape=(input_len, one_hot_data.shape[1]), activation=['softmax', 'softmax'])"
      ]
    },
    {
      "cell_type": "code",
      "execution_count": 22,
      "id": "e2f39916",
      "metadata": {
        "colab": {
          "base_uri": "https://localhost:8080/"
        },
        "id": "e2f39916",
        "outputId": "89a6f126-45bd-45ec-ed25-e212627cd878"
      },
      "outputs": [
        {
          "output_type": "stream",
          "name": "stdout",
          "text": [
            "Model: \"sequential\"\n",
            "_________________________________________________________________\n",
            " Layer (type)                Output Shape              Param #   \n",
            "=================================================================\n",
            " lstm (LSTM)                 (None, 5, 516)            2212608   \n",
            "                                                                 \n",
            " dropout (Dropout)           (None, 5, 516)            0         \n",
            "                                                                 \n",
            " lstm_1 (LSTM)               (None, 258)               799800    \n",
            "                                                                 \n",
            " dense (Dense)               (None, 164)               42476     \n",
            "                                                                 \n",
            " dropout_1 (Dropout)         (None, 164)               0         \n",
            "                                                                 \n",
            " dense_1 (Dense)             (None, 555)               91575     \n",
            "                                                                 \n",
            "=================================================================\n",
            "Total params: 3,146,459\n",
            "Trainable params: 3,146,459\n",
            "Non-trainable params: 0\n",
            "_________________________________________________________________\n"
          ]
        }
      ],
      "source": [
        "model.summary()"
      ]
    },
    {
      "cell_type": "code",
      "execution_count": 23,
      "id": "93e32072",
      "metadata": {
        "colab": {
          "base_uri": "https://localhost:8080/"
        },
        "id": "93e32072",
        "outputId": "b5febb91-2ef2-4ba3-e997-2a067331b5e7"
      },
      "outputs": [
        {
          "output_type": "execute_result",
          "data": {
            "text/plain": [
              "array([[0., 0., 0., ..., 0., 0., 0.],\n",
              "       [0., 0., 0., ..., 0., 0., 0.],\n",
              "       [0., 0., 0., ..., 0., 0., 0.],\n",
              "       ...,\n",
              "       [0., 0., 0., ..., 0., 0., 0.],\n",
              "       [0., 0., 0., ..., 0., 0., 0.],\n",
              "       [0., 0., 0., ..., 0., 0., 0.]])"
            ]
          },
          "metadata": {},
          "execution_count": 23
        }
      ],
      "source": [
        "y"
      ]
    },
    {
      "cell_type": "code",
      "execution_count": 24,
      "id": "cec6ef8b",
      "metadata": {
        "colab": {
          "base_uri": "https://localhost:8080/"
        },
        "id": "cec6ef8b",
        "outputId": "7613dcd3-88e4-444d-c209-ee5918285abd"
      },
      "outputs": [
        {
          "output_type": "execute_result",
          "data": {
            "text/plain": [
              "2"
            ]
          },
          "metadata": {},
          "execution_count": 24
        }
      ],
      "source": [
        "len(np.unique(X))"
      ]
    },
    {
      "cell_type": "code",
      "execution_count": 25,
      "id": "2248f9af",
      "metadata": {
        "colab": {
          "base_uri": "https://localhost:8080/"
        },
        "id": "2248f9af",
        "outputId": "aebb409c-e2ee-4b7e-e704-3e6ab5907c8a"
      },
      "outputs": [
        {
          "output_type": "stream",
          "name": "stdout",
          "text": [
            "Epoch 1/10\n",
            "1033/1033 [==============================] - 146s 137ms/step - loss: 3.3655\n",
            "Epoch 2/10\n",
            "1033/1033 [==============================] - 142s 138ms/step - loss: 2.6635\n",
            "Epoch 3/10\n",
            "1033/1033 [==============================] - 150s 146ms/step - loss: 2.4806\n",
            "Epoch 4/10\n",
            "1033/1033 [==============================] - 144s 139ms/step - loss: 2.3417\n",
            "Epoch 5/10\n",
            "1033/1033 [==============================] - 143s 139ms/step - loss: 2.2079\n",
            "Epoch 6/10\n",
            "1033/1033 [==============================] - 145s 140ms/step - loss: 2.0566\n",
            "Epoch 7/10\n",
            "1033/1033 [==============================] - 148s 143ms/step - loss: 1.9040\n",
            "Epoch 8/10\n",
            "1033/1033 [==============================] - 148s 143ms/step - loss: 1.7403\n",
            "Epoch 9/10\n",
            "1033/1033 [==============================] - 148s 143ms/step - loss: 1.5763\n",
            "Epoch 10/10\n",
            "1033/1033 [==============================] - 147s 142ms/step - loss: 1.4022\n"
          ]
        },
        {
          "output_type": "execute_result",
          "data": {
            "text/plain": [
              "<keras.callbacks.History at 0x7f2b4302d550>"
            ]
          },
          "metadata": {},
          "execution_count": 25
        }
      ],
      "source": [
        "model.fit(X, y, epochs=10)"
      ]
    },
    {
      "cell_type": "code",
      "execution_count": 25,
      "id": "d5274695",
      "metadata": {
        "id": "d5274695"
      },
      "outputs": [],
      "source": []
    },
    {
      "cell_type": "code",
      "source": [
        "scales = {\n",
        "  \"c-major\": ['A3', 'B3', 'C3', 'D3', 'E3', 'F3', 'G3', '0.4.7','4.7.11', '2.5.9', '5.9.0', '7.11.2', '9.0.4'],\n",
        "  \"c#-major\" : ['A#3', 'C3', 'C#3', 'D#3', 'F3', 'F#3', 'G#3', '1.5.8','5.8.12', '3.6.10', '6.10.0', '8.0.3', '10.1.5'],\n",
        "  \"d-major\": ['B3', 'C#3', 'D3', 'E3', 'F#3', 'G3', 'A3', '2.6.9','6.9.1', '4.7.11', '7.11.2', '9.1.4', '11.2.6'],\n",
        "  \"d#-major\": ['C3', 'D3', 'D#3', 'F3', 'G3', 'G#3', 'A#3', '3.7.10','7.10.2', '5.8.0', '8.0.3', '10.2.5', '10.1.5'],\n",
        "  \"e-major\": ['C#3', 'D#3', 'E3', 'F#3', 'G#3', 'A3', 'B3', '4.8.11','8.11.3', '6.9.1', '9.1.4', '11.3.6', '11.2.6'],\n",
        "  \"f-major\": ['D3', 'E3', 'F3', 'G3', 'A3', 'A#3', 'C3', '5.9.0','9.0.4', '7.10.2', '10.2.5', '0.4.7', '0.3.7'],\n",
        "  \"f#-major\": ['D#3', 'F3', 'F#3', 'G#3', 'A#3', 'B3', 'C#3', '6.10.1','10.1.5', '8.11.3', '11.3.6', '1.5.8', '1.4.8'],\n",
        "  \"g-major\": ['E3', 'F#3', 'G3', 'A3', 'B3', 'C3', 'D3', '7.11.2','11.2.6', '9.0.4', '0.4.7', '2.6.9', '2.5.9'],\n",
        "  \"g#-major\": ['F3', 'G3', 'G#3', 'A#3', 'C3', 'C#3', 'D#3', '8.0.3','0.3.7', '10.1.5', '1.5.8', '3.7.10', '3.6.10'],\n",
        "  \"a-major\": ['F#3', 'G#3', 'A3', 'B3', 'C#3', 'D3', 'E3', '9.1.4','1.4.8', '11.2.6', '2.6.9', '4.8.11', '4.7.11'],\n",
        "  \"a#-major\": ['G3', 'A3', 'A#3', 'C3', 'D3', 'D#3', 'F3', '10.2.5','2.5.9', '0.3.7', '3.7.10', '5.9.0', '5.8.0'],\n",
        "  \"b-major\": ['G#3', 'A#3', 'B3', 'C#3', 'D#3', 'E3', 'F#3', '11.3.6','3.6.10', '1.4.8', '4.8.11', '6.10.1', '6.9.1'],\n",
        "  \n",
        "  \"a-minor\": ['A3', 'B3', 'C3', 'D3', 'E3', 'F3', 'G3', '0.4.7','4.7.11', '2.5.9', '5.9.0', '7.11.2', '9.0.4'],\n",
        "  \"a#-minor\" : ['A#3', 'C3', 'C#3', 'D#3', 'F3', 'F#3', 'G#3', '1.5.8','5.8.12', '3.6.10', '6.10.0', '8.0.3', '10.1.5'],\n",
        "  \"b-minor\": ['B3', 'C#3', 'D3', 'E3', 'F#3', 'G3', 'A3', '2.6.9','6.9.1', '4.7.11', '7.11.2', '9.1.4', '11.2.6'],\n",
        "  \"c-minor\": ['C3', 'D3', 'D#3', 'F3', 'G3', 'G#3', 'A#3', '3.7.10','7.10.2', '5.8.0', '8.0.3', '10.2.5', '10.1.5'],\n",
        "  \"c#-minor\": ['C#3', 'D#3', 'E3', 'F#3', 'G#3', 'A3', 'B3', '4.8.11','8.11.3', '6.9.1', '9.1.4', '11.3.6', '11.2.6'],\n",
        "  \"d-minor\": ['D3', 'E3', 'F3', 'G3', 'A3', 'A#3', 'C3', '5.9.0','9.0.4', '7.10.2', '10.2.5', '0.4.7', '0.3.7'],\n",
        "  \"d#-minor\": ['D#3', 'F3', 'F#3', 'G#3', 'A#3', 'B3', 'C#3', '6.10.1','10.1.5', '8.11.3', '11.3.6', '1.5.8', '1.4.8'],\n",
        "  \"e-minor\": ['E3', 'F#3', 'G3', 'A3', 'B3', 'C3', 'D3', '7.11.2','11.2.6', '9.0.4', '0.4.7', '2.6.9', '2.5.9'],\n",
        "  \"f-minor\": ['F3', 'G3', 'G#3', 'A#3', 'C3', 'C#3', 'D#3', '8.0.3','0.3.7', '10.1.5', '1.5.8', '3.7.10', '3.6.10'],\n",
        "  \"f#-minor\": ['F#3', 'G#3', 'A3', 'B3', 'C#3', 'D3', 'E3', '9.1.4','1.4.8', '11.2.6', '2.6.9', '4.8.11', '4.7.11'],\n",
        "  \"g-minor\": ['G3', 'A3', 'A#3', 'C3', 'D3', 'D#3', 'F3', '10.2.5','2.5.9', '0.3.7', '3.7.10', '5.9.0', '5.8.0'],\n",
        "  \"g#-minor\": ['G#3', 'A#3', 'B3', 'C#3', 'D#3', 'E3', 'F#3', '11.3.6','3.6.10', '1.4.8', '4.8.11', '6.10.1', '6.9.1'],\n",
        "}\n"
      ],
      "metadata": {
        "id": "DG2oYbLI21Nd"
      },
      "id": "DG2oYbLI21Nd",
      "execution_count": 70,
      "outputs": []
    },
    {
      "cell_type": "code",
      "source": [
        "input_scale = input('choose scale')"
      ],
      "metadata": {
        "colab": {
          "base_uri": "https://localhost:8080/"
        },
        "id": "sxhCOjTk9IJ7",
        "outputId": "f7c9c278-abf4-4213-a0d1-1d96f5b322a9"
      },
      "id": "sxhCOjTk9IJ7",
      "execution_count": 166,
      "outputs": [
        {
          "name": "stdout",
          "output_type": "stream",
          "text": [
            "choose scalec-major\n"
          ]
        }
      ]
    },
    {
      "cell_type": "code",
      "execution_count": 189,
      "id": "ff91360a",
      "metadata": {
        "id": "ff91360a"
      },
      "outputs": [],
      "source": [
        "new_corpus = np.array([random.sample(scales[input_scale], 5)])"
      ]
    },
    {
      "cell_type": "code",
      "source": [],
      "metadata": {
        "id": "qEQFUt0LTa89"
      },
      "id": "qEQFUt0LTa89",
      "execution_count": 189,
      "outputs": []
    },
    {
      "cell_type": "code",
      "source": [
        "new_corpus.shape"
      ],
      "metadata": {
        "colab": {
          "base_uri": "https://localhost:8080/"
        },
        "id": "5CZPngEG-JbL",
        "outputId": "3e3cb03d-e87b-44ca-c845-597f7c214c2b"
      },
      "id": "5CZPngEG-JbL",
      "execution_count": 190,
      "outputs": [
        {
          "output_type": "execute_result",
          "data": {
            "text/plain": [
              "(1, 5)"
            ]
          },
          "metadata": {},
          "execution_count": 190
        }
      ]
    },
    {
      "cell_type": "code",
      "execution_count": 191,
      "id": "ade243f3",
      "metadata": {
        "id": "ade243f3"
      },
      "outputs": [],
      "source": [
        "new_corpus = np.reshape(new_corpus, (len(new_corpus[0]), 1))"
      ]
    },
    {
      "cell_type": "code",
      "execution_count": 192,
      "id": "d43b4257",
      "metadata": {
        "colab": {
          "base_uri": "https://localhost:8080/"
        },
        "id": "d43b4257",
        "outputId": "1a0e2330-8c3b-4b4c-9c64-1c94990c2721"
      },
      "outputs": [
        {
          "output_type": "execute_result",
          "data": {
            "text/plain": [
              "(5, 1)"
            ]
          },
          "metadata": {},
          "execution_count": 192
        }
      ],
      "source": [
        "new_corpus.shape"
      ]
    },
    {
      "cell_type": "code",
      "execution_count": 193,
      "id": "672caeb9",
      "metadata": {
        "id": "672caeb9"
      },
      "outputs": [],
      "source": [
        "one_hot_new_data = encoder.transform(new_corpus)\n",
        "one_hot_new_data = one_hot_new_data.toarray()"
      ]
    },
    {
      "cell_type": "code",
      "execution_count": 194,
      "id": "a248e847",
      "metadata": {
        "colab": {
          "base_uri": "https://localhost:8080/"
        },
        "id": "a248e847",
        "outputId": "5746c40e-9aea-49f1-8f84-2469c8a9aa8a"
      },
      "outputs": [
        {
          "output_type": "execute_result",
          "data": {
            "text/plain": [
              "(5, 555)"
            ]
          },
          "metadata": {},
          "execution_count": 194
        }
      ],
      "source": [
        "one_hot_new_data.shape"
      ]
    },
    {
      "cell_type": "code",
      "execution_count": 195,
      "id": "48e30c36",
      "metadata": {
        "id": "48e30c36"
      },
      "outputs": [],
      "source": [
        "def funkcija(broj):\n",
        "    if broj > 0.2:\n",
        "        return 1\n",
        "    else:\n",
        "        return 0"
      ]
    },
    {
      "cell_type": "code",
      "execution_count": 196,
      "id": "a2bc9b7f",
      "metadata": {
        "id": "a2bc9b7f"
      },
      "outputs": [],
      "source": [
        "s = set({})"
      ]
    },
    {
      "cell_type": "code",
      "execution_count": 197,
      "id": "838511b2",
      "metadata": {
        "colab": {
          "base_uri": "https://localhost:8080/"
        },
        "id": "838511b2",
        "outputId": "5a8b0dc9-693b-48dd-abfe-ec49a50a8ffb"
      },
      "outputs": [
        {
          "output_type": "execute_result",
          "data": {
            "text/plain": [
              "True"
            ]
          },
          "metadata": {},
          "execution_count": 197
        }
      ],
      "source": [
        "1 == 1.0"
      ]
    },
    {
      "cell_type": "code",
      "source": [],
      "metadata": {
        "id": "gHjsxYqbRjrM"
      },
      "id": "gHjsxYqbRjrM",
      "execution_count": 197,
      "outputs": []
    },
    {
      "cell_type": "code",
      "execution_count": 198,
      "id": "1c3adda7",
      "metadata": {
        "id": "1c3adda7"
      },
      "outputs": [],
      "source": [
        "def three_in_a_row(new_note, one_hot_new_data, i):\n",
        "    entry = encoder.inverse_transform(new_note)\n",
        "    last = encoder.inverse_transform(one_hot_new_data[i-1:i])\n",
        "    before_last = encoder.inverse_transform(one_hot_new_data[i-2:i-1])\n",
        "    if entry != last or entry != before_last:\n",
        "        return False\n",
        "    return True"
      ]
    },
    {
      "cell_type": "code",
      "source": [],
      "metadata": {
        "id": "adUIk1fCS48K"
      },
      "id": "adUIk1fCS48K",
      "execution_count": 198,
      "outputs": []
    },
    {
      "cell_type": "code",
      "execution_count": 199,
      "id": "d9202dc5",
      "metadata": {
        "id": "d9202dc5"
      },
      "outputs": [],
      "source": [
        "def choose_another_note(forbidden):\n",
        "    our_scale = set(scales[input_scale])\n",
        "    if np.any(forbidden):\n",
        "        forbidden = np.reshape(forbidden, (1, -1))\n",
        "        forbidden = encoder.inverse_transform(forbidden)\n",
        "        our_scale_valid = our_scale.difference({forbidden[0][0]})\n",
        "    else:\n",
        "        our_scale_valid = our_scale\n",
        "    new_note = np.array([random.choice(list(our_scale_valid))])\n",
        "    new_note = np.reshape(new_note, (len(new_note), 1))\n",
        "\n",
        "    new_note = encoder.transform(new_note)\n",
        "    new_note = new_note.toarray()\n",
        "    \n",
        "    return new_note\n",
        "    \n",
        "    "
      ]
    },
    {
      "cell_type": "code",
      "execution_count": 200,
      "id": "9c0997b4",
      "metadata": {
        "id": "9c0997b4"
      },
      "outputs": [],
      "source": [
        "def in_scale(new_note):\n",
        "    our_scale = set(scales[input_scale])\n",
        "    if encoder.inverse_transform(new_note)[0][0] not in our_scale:\n",
        "        return False\n",
        "    return True"
      ]
    },
    {
      "cell_type": "code",
      "execution_count": 201,
      "id": "dd28d852",
      "metadata": {
        "colab": {
          "base_uri": "https://localhost:8080/"
        },
        "id": "dd28d852",
        "outputId": "2a996058-e054-420b-b465-18d4eb515967"
      },
      "outputs": [
        {
          "output_type": "execute_result",
          "data": {
            "text/plain": [
              "(5, 555)"
            ]
          },
          "metadata": {},
          "execution_count": 201
        }
      ],
      "source": [
        "one_hot_new_data.shape"
      ]
    },
    {
      "cell_type": "code",
      "execution_count": 202,
      "id": "c3f6760e",
      "metadata": {
        "id": "c3f6760e"
      },
      "outputs": [],
      "source": [
        "i = input_len"
      ]
    },
    {
      "cell_type": "code",
      "execution_count": 203,
      "id": "8c068878",
      "metadata": {
        "colab": {
          "base_uri": "https://localhost:8080/"
        },
        "id": "8c068878",
        "outputId": "10a078d5-e0bd-459f-dca8-daa4de84e12f"
      },
      "outputs": [
        {
          "output_type": "stream",
          "name": "stdout",
          "text": [
            "1/1 [==============================] - 0s 29ms/step\n",
            "1/1 [==============================] - 0s 30ms/step\n",
            "1/1 [==============================] - 0s 27ms/step\n",
            "1/1 [==============================] - 0s 30ms/step\n",
            "1/1 [==============================] - 0s 33ms/step\n",
            "1/1 [==============================] - 0s 28ms/step\n",
            "1/1 [==============================] - 0s 27ms/step\n",
            "1/1 [==============================] - 0s 27ms/step\n",
            "1/1 [==============================] - 0s 29ms/step\n",
            "1/1 [==============================] - 0s 30ms/step\n",
            "1/1 [==============================] - 0s 46ms/step\n",
            "1/1 [==============================] - 0s 39ms/step\n",
            "1/1 [==============================] - 0s 28ms/step\n",
            "1/1 [==============================] - 0s 32ms/step\n",
            "1/1 [==============================] - 0s 28ms/step\n",
            "1/1 [==============================] - 0s 31ms/step\n",
            "1/1 [==============================] - 0s 40ms/step\n",
            "1/1 [==============================] - 0s 30ms/step\n",
            "1/1 [==============================] - 0s 31ms/step\n",
            "1/1 [==============================] - 0s 28ms/step\n",
            "1/1 [==============================] - 0s 32ms/step\n",
            "1/1 [==============================] - 0s 29ms/step\n",
            "1/1 [==============================] - 0s 29ms/step\n",
            "1/1 [==============================] - 0s 31ms/step\n",
            "1/1 [==============================] - 0s 32ms/step\n",
            "1/1 [==============================] - 0s 34ms/step\n",
            "1/1 [==============================] - 0s 33ms/step\n",
            "1/1 [==============================] - 0s 30ms/step\n",
            "1/1 [==============================] - 0s 30ms/step\n",
            "1/1 [==============================] - 0s 29ms/step\n",
            "1/1 [==============================] - 0s 28ms/step\n",
            "1/1 [==============================] - 0s 28ms/step\n",
            "1/1 [==============================] - 0s 30ms/step\n",
            "1/1 [==============================] - 0s 28ms/step\n",
            "1/1 [==============================] - 0s 30ms/step\n",
            "1/1 [==============================] - 0s 43ms/step\n",
            "1/1 [==============================] - 0s 30ms/step\n",
            "1/1 [==============================] - 0s 29ms/step\n",
            "1/1 [==============================] - 0s 32ms/step\n",
            "1/1 [==============================] - 0s 32ms/step\n",
            "1/1 [==============================] - 0s 28ms/step\n",
            "1/1 [==============================] - 0s 41ms/step\n",
            "1/1 [==============================] - 0s 29ms/step\n",
            "1/1 [==============================] - 0s 29ms/step\n",
            "1/1 [==============================] - 0s 29ms/step\n",
            "1/1 [==============================] - 0s 30ms/step\n",
            "1/1 [==============================] - 0s 31ms/step\n",
            "1/1 [==============================] - 0s 30ms/step\n",
            "1/1 [==============================] - 0s 30ms/step\n",
            "1/1 [==============================] - 0s 29ms/step\n",
            "1/1 [==============================] - 0s 29ms/step\n",
            "1/1 [==============================] - 0s 29ms/step\n",
            "1/1 [==============================] - 0s 29ms/step\n",
            "1/1 [==============================] - 0s 32ms/step\n",
            "1/1 [==============================] - 0s 33ms/step\n",
            "1/1 [==============================] - 0s 28ms/step\n",
            "1/1 [==============================] - 0s 28ms/step\n",
            "1/1 [==============================] - 0s 28ms/step\n",
            "1/1 [==============================] - 0s 44ms/step\n",
            "1/1 [==============================] - 0s 44ms/step\n",
            "1/1 [==============================] - 0s 48ms/step\n",
            "1/1 [==============================] - 0s 42ms/step\n",
            "1/1 [==============================] - 0s 46ms/step\n",
            "1/1 [==============================] - 0s 50ms/step\n",
            "1/1 [==============================] - 0s 48ms/step\n",
            "1/1 [==============================] - 0s 42ms/step\n",
            "1/1 [==============================] - 0s 44ms/step\n",
            "1/1 [==============================] - 0s 44ms/step\n",
            "1/1 [==============================] - 0s 41ms/step\n",
            "1/1 [==============================] - 0s 45ms/step\n",
            "1/1 [==============================] - 0s 41ms/step\n",
            "1/1 [==============================] - 0s 42ms/step\n",
            "1/1 [==============================] - 0s 42ms/step\n",
            "1/1 [==============================] - 0s 40ms/step\n",
            "1/1 [==============================] - 0s 48ms/step\n",
            "1/1 [==============================] - 0s 42ms/step\n",
            "1/1 [==============================] - 0s 41ms/step\n",
            "1/1 [==============================] - 0s 48ms/step\n",
            "1/1 [==============================] - 0s 54ms/step\n",
            "1/1 [==============================] - 0s 34ms/step\n",
            "1/1 [==============================] - 0s 30ms/step\n",
            "1/1 [==============================] - 0s 31ms/step\n",
            "1/1 [==============================] - 0s 28ms/step\n",
            "1/1 [==============================] - 0s 31ms/step\n",
            "1/1 [==============================] - 0s 28ms/step\n",
            "1/1 [==============================] - 0s 29ms/step\n",
            "1/1 [==============================] - 0s 29ms/step\n",
            "1/1 [==============================] - 0s 35ms/step\n",
            "1/1 [==============================] - 0s 28ms/step\n",
            "1/1 [==============================] - 0s 30ms/step\n",
            "1/1 [==============================] - 0s 34ms/step\n",
            "1/1 [==============================] - 0s 30ms/step\n",
            "1/1 [==============================] - 0s 31ms/step\n",
            "1/1 [==============================] - 0s 28ms/step\n",
            "1/1 [==============================] - 0s 29ms/step\n",
            "1/1 [==============================] - 0s 28ms/step\n",
            "1/1 [==============================] - 0s 29ms/step\n",
            "1/1 [==============================] - 0s 32ms/step\n",
            "1/1 [==============================] - 0s 35ms/step\n",
            "1/1 [==============================] - 0s 29ms/step\n",
            "1/1 [==============================] - 0s 30ms/step\n",
            "1/1 [==============================] - 0s 31ms/step\n",
            "1/1 [==============================] - 0s 27ms/step\n",
            "1/1 [==============================] - 0s 29ms/step\n",
            "1/1 [==============================] - 0s 29ms/step\n",
            "1/1 [==============================] - 0s 26ms/step\n",
            "1/1 [==============================] - 0s 27ms/step\n"
          ]
        }
      ],
      "source": [
        "while i < 112:\n",
        "    new_note = model.predict(np.reshape(one_hot_new_data[i-input_len:i], (1, input_len, one_hot_data.shape[1])))\n",
        "    new_note = np.array(list(map(funkcija, new_note[0])))\n",
        "    new_note = np.reshape(new_note, (1, one_hot_data.shape[1]))\n",
        "    \n",
        "    \n",
        "    while not np.any(new_note[0]) or not in_scale(new_note) or three_in_a_row(new_note, one_hot_new_data, i):\n",
        "        new_note = choose_another_note(new_note[0])\n",
        "        new_note = np.array(list(map(funkcija, new_note[0])))\n",
        "        new_note = np.reshape(new_note, (1, one_hot_data.shape[1]))\n",
        "    one_hot_new_data = np.append(one_hot_new_data, new_note, axis=0)\n",
        "    i += 1\n",
        "\n"
      ]
    },
    {
      "cell_type": "code",
      "execution_count": 204,
      "id": "8c8e3bc6",
      "metadata": {
        "id": "8c8e3bc6"
      },
      "outputs": [],
      "source": [
        "one_hot_new_data = encoder.inverse_transform(one_hot_new_data)"
      ]
    },
    {
      "cell_type": "code",
      "execution_count": 205,
      "id": "53f38b9b",
      "metadata": {
        "colab": {
          "base_uri": "https://localhost:8080/"
        },
        "id": "53f38b9b",
        "outputId": "3dbf8fa3-e9f7-4b05-b550-b72f172b14d7"
      },
      "outputs": [
        {
          "output_type": "execute_result",
          "data": {
            "text/plain": [
              "array([['0.4.7'],\n",
              "       ['G3'],\n",
              "       ['2.5.9'],\n",
              "       ['C3'],\n",
              "       ['B3'],\n",
              "       ['D3'],\n",
              "       ['D3'],\n",
              "       ['E3'],\n",
              "       ['E3'],\n",
              "       ['9.0.4'],\n",
              "       ['9.0.4'],\n",
              "       ['G3'],\n",
              "       ['A3'],\n",
              "       ['A3'],\n",
              "       ['F3'],\n",
              "       ['A3'],\n",
              "       ['A3'],\n",
              "       ['2.5.9'],\n",
              "       ['A3'],\n",
              "       ['A3'],\n",
              "       ['G3'],\n",
              "       ['A3'],\n",
              "       ['B3'],\n",
              "       ['A3'],\n",
              "       ['A3'],\n",
              "       ['7.11.2'],\n",
              "       ['D3'],\n",
              "       ['A3'],\n",
              "       ['A3'],\n",
              "       ['0.4.7'],\n",
              "       ['A3'],\n",
              "       ['A3'],\n",
              "       ['7.11.2'],\n",
              "       ['7.11.2'],\n",
              "       ['F3'],\n",
              "       ['0.4.7'],\n",
              "       ['0.4.7'],\n",
              "       ['9.0.4'],\n",
              "       ['0.4.7'],\n",
              "       ['0.4.7'],\n",
              "       ['A3'],\n",
              "       ['0.4.7'],\n",
              "       ['0.4.7'],\n",
              "       ['9.0.4'],\n",
              "       ['0.4.7'],\n",
              "       ['0.4.7'],\n",
              "       ['2.5.9'],\n",
              "       ['0.4.7'],\n",
              "       ['0.4.7'],\n",
              "       ['4.7.11'],\n",
              "       ['0.4.7'],\n",
              "       ['0.4.7'],\n",
              "       ['F3'],\n",
              "       ['5.9.0'],\n",
              "       ['0.4.7'],\n",
              "       ['0.4.7'],\n",
              "       ['5.9.0'],\n",
              "       ['5.9.0'],\n",
              "       ['0.4.7'],\n",
              "       ['0.4.7'],\n",
              "       ['5.9.0'],\n",
              "       ['0.4.7'],\n",
              "       ['0.4.7'],\n",
              "       ['2.5.9'],\n",
              "       ['5.9.0'],\n",
              "       ['0.4.7'],\n",
              "       ['0.4.7'],\n",
              "       ['B3'],\n",
              "       ['7.11.2'],\n",
              "       ['7.11.2'],\n",
              "       ['4.7.11'],\n",
              "       ['4.7.11'],\n",
              "       ['5.9.0'],\n",
              "       ['5.9.0'],\n",
              "       ['0.4.7'],\n",
              "       ['0.4.7'],\n",
              "       ['D3'],\n",
              "       ['0.4.7'],\n",
              "       ['0.4.7'],\n",
              "       ['2.5.9'],\n",
              "       ['0.4.7'],\n",
              "       ['0.4.7'],\n",
              "       ['A3'],\n",
              "       ['0.4.7'],\n",
              "       ['0.4.7'],\n",
              "       ['E3'],\n",
              "       ['0.4.7'],\n",
              "       ['0.4.7'],\n",
              "       ['9.0.4'],\n",
              "       ['0.4.7'],\n",
              "       ['0.4.7'],\n",
              "       ['5.9.0'],\n",
              "       ['5.9.0'],\n",
              "       ['G3'],\n",
              "       ['5.9.0'],\n",
              "       ['5.9.0'],\n",
              "       ['4.7.11'],\n",
              "       ['E3'],\n",
              "       ['9.0.4'],\n",
              "       ['0.4.7'],\n",
              "       ['0.4.7'],\n",
              "       ['2.5.9'],\n",
              "       ['0.4.7'],\n",
              "       ['0.4.7'],\n",
              "       ['4.7.11'],\n",
              "       ['0.4.7'],\n",
              "       ['0.4.7'],\n",
              "       ['C3'],\n",
              "       ['0.4.7'],\n",
              "       ['0.4.7'],\n",
              "       ['A3'],\n",
              "       ['7.11.2']], dtype='<U25')"
            ]
          },
          "metadata": {},
          "execution_count": 205
        }
      ],
      "source": [
        "one_hot_new_data"
      ]
    },
    {
      "cell_type": "code",
      "execution_count": 206,
      "id": "1ebb2af7",
      "metadata": {
        "colab": {
          "base_uri": "https://localhost:8080/"
        },
        "id": "1ebb2af7",
        "outputId": "46e631b1-1944-4237-c053-acce8a0e7d81"
      },
      "outputs": [
        {
          "output_type": "execute_result",
          "data": {
            "text/plain": [
              "(112, 1)"
            ]
          },
          "metadata": {},
          "execution_count": 206
        }
      ],
      "source": [
        "one_hot_new_data.shape"
      ]
    },
    {
      "cell_type": "code",
      "execution_count": 207,
      "id": "1364280e",
      "metadata": {
        "id": "1364280e"
      },
      "outputs": [],
      "source": [
        "def chords_n_notes(Snippet):\n",
        "    Melody = []\n",
        "    offset = 0 #Incremental\n",
        "    for i in Snippet:\n",
        "        #If it is chord\n",
        "        if (\".\" in i or i.isdigit()):\n",
        "            chord_notes = i.split(\".\") #Seperating the notes in chord\n",
        "            notes = [] \n",
        "            for j in chord_notes:\n",
        "                inst_note=int(j)\n",
        "                note_snip = note.Note(inst_note)            \n",
        "                notes.append(note_snip)\n",
        "                chord_snip = chord.Chord(notes)\n",
        "                chord_snip.offset = offset\n",
        "                Melody.append(chord_snip)\n",
        "        # pattern is a note\n",
        "        else: \n",
        "            note_snip = note.Note(i)\n",
        "            note_snip.offset = offset\n",
        "            Melody.append(note_snip)\n",
        "        # increase offset each iteration so that notes do not stack\n",
        "        offset += 1\n",
        "    Melody_midi = stream.Stream(Melody)   \n",
        "    return Melody_midi"
      ]
    },
    {
      "cell_type": "code",
      "execution_count": 208,
      "id": "c9e4d205",
      "metadata": {
        "id": "c9e4d205"
      },
      "outputs": [],
      "source": [
        "Melody = chords_n_notes(one_hot_new_data.reshape(112, ))"
      ]
    },
    {
      "cell_type": "code",
      "execution_count": 133,
      "id": "5550876a",
      "metadata": {
        "id": "5550876a"
      },
      "outputs": [],
      "source": [
        "Melody_midy = stream.Stream(Melody)"
      ]
    },
    {
      "cell_type": "code",
      "execution_count": 209,
      "id": "3d268638",
      "metadata": {
        "colab": {
          "base_uri": "https://localhost:8080/",
          "height": 35
        },
        "id": "3d268638",
        "outputId": "a585b6f7-aea2-4f77-cd01-2dffd1a6c348"
      },
      "outputs": [
        {
          "output_type": "execute_result",
          "data": {
            "text/plain": [
              "'Melody_Generated_Better1.mid'"
            ],
            "application/vnd.google.colaboratory.intrinsic+json": {
              "type": "string"
            }
          },
          "metadata": {},
          "execution_count": 209
        }
      ],
      "source": [
        "Melody.write('midi','Melody_Generated_Better1.mid')"
      ]
    },
    {
      "cell_type": "code",
      "execution_count": null,
      "id": "d782f6e1",
      "metadata": {
        "id": "d782f6e1",
        "outputId": "5a32692c-ea10-402e-845d-0c756d548a04"
      },
      "outputs": [
        {
          "name": "stdout",
          "output_type": "stream",
          "text": [
            "Sample Audio From Data\n"
          ]
        },
        {
          "ename": "ValueError",
          "evalue": "rate must be specified when data is a numpy array or list of audio samples.",
          "output_type": "error",
          "traceback": [
            "\u001b[0;31m---------------------------------------------------------------------------\u001b[0m",
            "\u001b[0;31mValueError\u001b[0m                                Traceback (most recent call last)",
            "Cell \u001b[0;32mIn[212], line 2\u001b[0m\n\u001b[1;32m      1\u001b[0m \u001b[38;5;28mprint\u001b[39m(\u001b[38;5;124m\"\u001b[39m\u001b[38;5;124mSample Audio From Data\u001b[39m\u001b[38;5;124m\"\u001b[39m)\n\u001b[0;32m----> 2\u001b[0m \u001b[43mIPython\u001b[49m\u001b[38;5;241;43m.\u001b[39;49m\u001b[43mdisplay\u001b[49m\u001b[38;5;241;43m.\u001b[39;49m\u001b[43mAudio\u001b[49m\u001b[43m(\u001b[49m\u001b[38;5;124;43m\"\u001b[39;49m\u001b[38;5;124;43mMelody_Generated.mid\u001b[39;49m\u001b[38;5;124;43m\"\u001b[39;49m\u001b[43m)\u001b[49m \n",
            "File \u001b[0;32m~/.local/lib/python3.10/site-packages/IPython/lib/display.py:129\u001b[0m, in \u001b[0;36mAudio.__init__\u001b[0;34m(self, data, filename, url, embed, rate, autoplay, normalize, element_id)\u001b[0m\n\u001b[1;32m    127\u001b[0m \u001b[38;5;28;01mif\u001b[39;00m \u001b[38;5;28mself\u001b[39m\u001b[38;5;241m.\u001b[39mdata \u001b[38;5;129;01mis\u001b[39;00m \u001b[38;5;129;01mnot\u001b[39;00m \u001b[38;5;28;01mNone\u001b[39;00m \u001b[38;5;129;01mand\u001b[39;00m \u001b[38;5;129;01mnot\u001b[39;00m \u001b[38;5;28misinstance\u001b[39m(\u001b[38;5;28mself\u001b[39m\u001b[38;5;241m.\u001b[39mdata, \u001b[38;5;28mbytes\u001b[39m):\n\u001b[1;32m    128\u001b[0m     \u001b[38;5;28;01mif\u001b[39;00m rate \u001b[38;5;129;01mis\u001b[39;00m \u001b[38;5;28;01mNone\u001b[39;00m:\n\u001b[0;32m--> 129\u001b[0m         \u001b[38;5;28;01mraise\u001b[39;00m \u001b[38;5;167;01mValueError\u001b[39;00m(\u001b[38;5;124m\"\u001b[39m\u001b[38;5;124mrate must be specified when data is a numpy array or list of audio samples.\u001b[39m\u001b[38;5;124m\"\u001b[39m)\n\u001b[1;32m    130\u001b[0m     \u001b[38;5;28mself\u001b[39m\u001b[38;5;241m.\u001b[39mdata \u001b[38;5;241m=\u001b[39m Audio\u001b[38;5;241m.\u001b[39m_make_wav(data, rate, normalize)\n",
            "\u001b[0;31mValueError\u001b[0m: rate must be specified when data is a numpy array or list of audio samples."
          ]
        }
      ],
      "source": [
        "print(\"Sample Audio From Data\")\n",
        "IPython.display.Audio(\"Melody_Generated.mid\") \n"
      ]
    },
    {
      "cell_type": "code",
      "execution_count": null,
      "id": "70957bce",
      "metadata": {
        "id": "70957bce"
      },
      "outputs": [],
      "source": []
    }
  ],
  "metadata": {
    "kernelspec": {
      "display_name": "Python 3 (ipykernel)",
      "language": "python",
      "name": "python3"
    },
    "language_info": {
      "codemirror_mode": {
        "name": "ipython",
        "version": 3
      },
      "file_extension": ".py",
      "mimetype": "text/x-python",
      "name": "python",
      "nbconvert_exporter": "python",
      "pygments_lexer": "ipython3",
      "version": "3.10.6"
    },
    "colab": {
      "provenance": []
    }
  },
  "nbformat": 4,
  "nbformat_minor": 5
}