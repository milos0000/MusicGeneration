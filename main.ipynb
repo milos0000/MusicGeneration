{
 "cells": [
  {
   "cell_type": "code",
   "execution_count": 1,
   "id": "34fbb1e3",
   "metadata": {},
   "outputs": [
    {
     "name": "stderr",
     "output_type": "stream",
     "text": [
      "2023-03-27 13:58:41.977516: I tensorflow/core/platform/cpu_feature_guard.cc:193] This TensorFlow binary is optimized with oneAPI Deep Neural Network Library (oneDNN) to use the following CPU instructions in performance-critical operations:  AVX2 FMA\n",
      "To enable them in other operations, rebuild TensorFlow with the appropriate compiler flags.\n",
      "2023-03-27 13:58:42.397762: W tensorflow/compiler/xla/stream_executor/platform/default/dso_loader.cc:64] Could not load dynamic library 'libcudart.so.11.0'; dlerror: libcudart.so.11.0: cannot open shared object file: No such file or directory\n",
      "2023-03-27 13:58:42.397799: I tensorflow/compiler/xla/stream_executor/cuda/cudart_stub.cc:29] Ignore above cudart dlerror if you do not have a GPU set up on your machine.\n",
      "2023-03-27 13:58:44.044191: W tensorflow/compiler/xla/stream_executor/platform/default/dso_loader.cc:64] Could not load dynamic library 'libnvinfer.so.7'; dlerror: libnvinfer.so.7: cannot open shared object file: No such file or directory\n",
      "2023-03-27 13:58:44.044337: W tensorflow/compiler/xla/stream_executor/platform/default/dso_loader.cc:64] Could not load dynamic library 'libnvinfer_plugin.so.7'; dlerror: libnvinfer_plugin.so.7: cannot open shared object file: No such file or directory\n",
      "2023-03-27 13:58:44.044350: W tensorflow/compiler/tf2tensorrt/utils/py_utils.cc:38] TF-TRT Warning: Cannot dlopen some TensorRT libraries. If you would like to use Nvidia GPU with TensorRT, please make sure the missing libraries mentioned above are installed properly.\n"
     ]
    }
   ],
   "source": [
    "from music21 import *\n",
    "import tensorflow\n",
    "import sys\n",
    "import os\n",
    "import IPython\n",
    "from keras.models import Sequential\n",
    "from keras.layers import Dense,LSTM,Dropout\n",
    "import keras\n",
    "from sklearn.metrics import mean_squared_error\n",
    "import numpy as np\n",
    "from sklearn.preprocessing import OneHotEncoder\n",
    "import random"
   ]
  },
  {
   "cell_type": "code",
   "execution_count": 2,
   "id": "e3074d81",
   "metadata": {},
   "outputs": [],
   "source": [
    "environment.set('musescoreDirectPNGPath', '../.local/bin/MuseScore-4.0.1.230121751-x86_64.AppImage')"
   ]
  },
  {
   "cell_type": "code",
   "execution_count": 88,
   "id": "afb77745",
   "metadata": {},
   "outputs": [],
   "source": [
    "filepath = \"pop_songs/\""
   ]
  },
  {
   "cell_type": "code",
   "execution_count": 93,
   "id": "faefff0c",
   "metadata": {},
   "outputs": [
    {
     "name": "stderr",
     "output_type": "stream",
     "text": [
      "/home/milos/.local/lib/python3.10/site-packages/music21/midi/translate.py:863: TranslateWarning: Unable to determine instrument from <music21.midi.MidiEvent SEQUENCE_TRACK_NAME, track=8, channel=None, data=b'Shawn Mendes, Camila Cabello \\x96 Se\\xf1orita'>; getting generic Instrument\n",
      "  warnings.warn(\n",
      "/home/milos/.local/lib/python3.10/site-packages/music21/midi/translate.py:863: TranslateWarning: Unable to determine instrument from <music21.midi.MidiEvent SEQUENCE_TRACK_NAME, track=7, channel=None, data=b'The Chainsmokers feat. XYL\\xd8 - Setting Fires'>; getting generic Instrument\n",
      "  warnings.warn(\n"
     ]
    }
   ],
   "source": [
    "all_midis= []\n",
    "names = []\n",
    "for i in os.listdir(filepath):\n",
    "    if i.endswith(\".mid\"):\n",
    "        tr = filepath + i\n",
    "        names.append(tr)\n",
    "        midi = converter.parse(tr)\n",
    "        all_midis.append(midi)\n",
    "        "
   ]
  },
  {
   "cell_type": "code",
   "execution_count": 95,
   "id": "26c2089d",
   "metadata": {},
   "outputs": [],
   "source": [
    "def extract_notes(files):\n",
    "    notes = []\n",
    "    pick = None\n",
    "    for f in files:\n",
    "        #songs = instrument.partitionByInstrument(f)\n",
    "        for part in f.parts:\n",
    "            pick = part.recurse()\n",
    "            for element in pick:\n",
    "                if isinstance(element, note.Note):\n",
    "                    notes.append(str(element.pitch))\n",
    "                elif isinstance(element, chord.Chord):\n",
    "                    notes.append(\".\".join(str(n) for n in element.normalOrder))\n",
    "\n",
    "    return notes\n",
    "#Getting the list of notes as Corpus\n",
    "Corpus= np.array(extract_notes(all_midis))\n",
    "#print(\"Total notes in all the Mozzart midis in the dataset:\", len(Corpus))"
   ]
  },
  {
   "cell_type": "code",
   "execution_count": 96,
   "id": "48f98910",
   "metadata": {},
   "outputs": [],
   "source": [
    "Corpus = np.reshape(Corpus, (len(Corpus), 1))"
   ]
  },
  {
   "cell_type": "code",
   "execution_count": 97,
   "id": "ff3747f0",
   "metadata": {},
   "outputs": [
    {
     "data": {
      "text/plain": [
       "(16523, 1)"
      ]
     },
     "execution_count": 97,
     "metadata": {},
     "output_type": "execute_result"
    }
   ],
   "source": [
    "Corpus.shape"
   ]
  },
  {
   "cell_type": "code",
   "execution_count": 98,
   "id": "1ed24110",
   "metadata": {},
   "outputs": [
    {
     "data": {
      "text/plain": [
       "array([['4.7.11'],\n",
       "       ['7.11'],\n",
       "       ['0.4.7'],\n",
       "       ...,\n",
       "       ['A1'],\n",
       "       ['A1'],\n",
       "       ['A1']], dtype='<U9')"
      ]
     },
     "execution_count": 98,
     "metadata": {},
     "output_type": "execute_result"
    }
   ],
   "source": [
    "Corpus"
   ]
  },
  {
   "cell_type": "code",
   "execution_count": 99,
   "id": "ce1b4dda",
   "metadata": {},
   "outputs": [
    {
     "data": {
      "text/plain": [
       "168"
      ]
     },
     "execution_count": 99,
     "metadata": {},
     "output_type": "execute_result"
    }
   ],
   "source": [
    "len(list(filter(lambda x : x == 'C3', Corpus)))"
   ]
  },
  {
   "cell_type": "code",
   "execution_count": 100,
   "id": "cd5f9adc",
   "metadata": {},
   "outputs": [
    {
     "name": "stdout",
     "output_type": "stream",
     "text": [
      "[[0. 0. 0. ... 0. 0. 0.]\n",
      " [0. 0. 0. ... 0. 0. 0.]\n",
      " [0. 0. 0. ... 0. 0. 0.]\n",
      " ...\n",
      " [0. 0. 0. ... 0. 0. 0.]\n",
      " [0. 0. 0. ... 0. 0. 0.]\n",
      " [0. 0. 0. ... 0. 0. 0.]]\n"
     ]
    }
   ],
   "source": [
    "# Initialize OneHotEncoder object\n",
    "encoder = OneHotEncoder()\n",
    "\n",
    "# Fit and transform the data\n",
    "one_hot_data = encoder.fit_transform(Corpus)\n",
    "\n",
    "# Convert sparse matrix to array\n",
    "one_hot_data = one_hot_data.toarray()\n",
    "\n",
    "# Print the one-hot encoded data\n",
    "print(one_hot_data)"
   ]
  },
  {
   "cell_type": "code",
   "execution_count": 101,
   "id": "c61bcec0",
   "metadata": {},
   "outputs": [
    {
     "data": {
      "text/plain": [
       "(16523, 164)"
      ]
     },
     "execution_count": 101,
     "metadata": {},
     "output_type": "execute_result"
    }
   ],
   "source": [
    "one_hot_data.shape"
   ]
  },
  {
   "cell_type": "code",
   "execution_count": 102,
   "id": "879d620d",
   "metadata": {},
   "outputs": [],
   "source": [
    "input_len = 5"
   ]
  },
  {
   "cell_type": "code",
   "execution_count": 103,
   "id": "f5196b42",
   "metadata": {},
   "outputs": [],
   "source": [
    "def getXy(data, step):\n",
    "    y_ind = np.arange(step, len(data), step)\n",
    "    y = data[y_ind]\n",
    "    rows_x = len(y)\n",
    "    X = data[range(rows_x * step)]\n",
    "    X = np.reshape(X, (rows_x, step, one_hot_data.shape[1]))\n",
    "    return X, y"
   ]
  },
  {
   "cell_type": "code",
   "execution_count": 104,
   "id": "ce1d850a",
   "metadata": {},
   "outputs": [
    {
     "name": "stdout",
     "output_type": "stream",
     "text": [
      "16523\n"
     ]
    },
    {
     "data": {
      "text/plain": [
       "(3304, 164)"
      ]
     },
     "execution_count": 104,
     "metadata": {},
     "output_type": "execute_result"
    }
   ],
   "source": [
    "print(len(one_hot_data))\n",
    "indeksi = np.arange(input_len, len(one_hot_data),input_len)\n",
    "one_hot_data[indeksi].shape"
   ]
  },
  {
   "cell_type": "code",
   "execution_count": 105,
   "id": "8516548b",
   "metadata": {},
   "outputs": [],
   "source": [
    "X, y = getXy(one_hot_data, input_len)"
   ]
  },
  {
   "cell_type": "code",
   "execution_count": 106,
   "id": "5e68d0cb",
   "metadata": {},
   "outputs": [
    {
     "data": {
      "text/plain": [
       "(3304, 5, 164)"
      ]
     },
     "execution_count": 106,
     "metadata": {},
     "output_type": "execute_result"
    }
   ],
   "source": [
    "X.shape"
   ]
  },
  {
   "cell_type": "code",
   "execution_count": 107,
   "id": "8e9994d5",
   "metadata": {},
   "outputs": [
    {
     "data": {
      "text/plain": [
       "(3304, 164)"
      ]
     },
     "execution_count": 107,
     "metadata": {},
     "output_type": "execute_result"
    }
   ],
   "source": [
    "y.shape"
   ]
  },
  {
   "cell_type": "code",
   "execution_count": 136,
   "id": "9b0d6985",
   "metadata": {},
   "outputs": [],
   "source": [
    "def create_RNN(hidden_units, dense_units, input_shape, activation):\n",
    "    model = Sequential()\n",
    "    model.add(LSTM(hidden_units, input_shape=input_shape, return_sequences=True))\n",
    "    model.add(Dropout(0.1))\n",
    "    model.add(LSTM(int(hidden_units/2)))\n",
    "    model.add(Dense(units=dense_units))\n",
    "    model.add(Dropout(0.1))\n",
    "    model.add(Dense(units=one_hot_data.shape[1], activation='softmax'))\n",
    "    model.compile(loss=tensorflow.losses.CategoricalCrossentropy(), optimizer='adam')\n",
    "    return model"
   ]
  },
  {
   "cell_type": "code",
   "execution_count": 137,
   "id": "692fe227",
   "metadata": {},
   "outputs": [],
   "source": [
    "model = create_RNN(516, 164, input_shape=(input_len, one_hot_data.shape[1]), activation=['softmax', 'softmax'])"
   ]
  },
  {
   "cell_type": "code",
   "execution_count": 138,
   "id": "e2f39916",
   "metadata": {},
   "outputs": [
    {
     "name": "stdout",
     "output_type": "stream",
     "text": [
      "Model: \"sequential_2\"\n",
      "_________________________________________________________________\n",
      " Layer (type)                Output Shape              Param #   \n",
      "=================================================================\n",
      " lstm_4 (LSTM)               (None, 5, 516)            1405584   \n",
      "                                                                 \n",
      " dropout_4 (Dropout)         (None, 5, 516)            0         \n",
      "                                                                 \n",
      " lstm_5 (LSTM)               (None, 258)               799800    \n",
      "                                                                 \n",
      " dense_4 (Dense)             (None, 164)               42476     \n",
      "                                                                 \n",
      " dropout_5 (Dropout)         (None, 164)               0         \n",
      "                                                                 \n",
      " dense_5 (Dense)             (None, 164)               27060     \n",
      "                                                                 \n",
      "=================================================================\n",
      "Total params: 2,274,920\n",
      "Trainable params: 2,274,920\n",
      "Non-trainable params: 0\n",
      "_________________________________________________________________\n"
     ]
    }
   ],
   "source": [
    "model.summary()"
   ]
  },
  {
   "cell_type": "code",
   "execution_count": 139,
   "id": "93e32072",
   "metadata": {},
   "outputs": [
    {
     "data": {
      "text/plain": [
       "array([[0., 0., 0., ..., 0., 0., 0.],\n",
       "       [0., 0., 0., ..., 0., 0., 0.],\n",
       "       [0., 0., 0., ..., 0., 0., 0.],\n",
       "       ...,\n",
       "       [0., 0., 0., ..., 0., 0., 0.],\n",
       "       [0., 0., 0., ..., 0., 0., 0.],\n",
       "       [0., 0., 0., ..., 0., 0., 0.]])"
      ]
     },
     "execution_count": 139,
     "metadata": {},
     "output_type": "execute_result"
    }
   ],
   "source": [
    "y"
   ]
  },
  {
   "cell_type": "code",
   "execution_count": 140,
   "id": "cec6ef8b",
   "metadata": {},
   "outputs": [
    {
     "data": {
      "text/plain": [
       "2"
      ]
     },
     "execution_count": 140,
     "metadata": {},
     "output_type": "execute_result"
    }
   ],
   "source": [
    "len(np.unique(X))"
   ]
  },
  {
   "cell_type": "code",
   "execution_count": 142,
   "id": "2248f9af",
   "metadata": {},
   "outputs": [
    {
     "name": "stdout",
     "output_type": "stream",
     "text": [
      "Epoch 1/10\n",
      "104/104 [==============================] - 9s 88ms/step - loss: 1.5786\n",
      "Epoch 2/10\n",
      "104/104 [==============================] - 9s 89ms/step - loss: 1.4866\n",
      "Epoch 3/10\n",
      "104/104 [==============================] - 9s 87ms/step - loss: 1.3979\n",
      "Epoch 4/10\n",
      "104/104 [==============================] - 8s 76ms/step - loss: 1.3365\n",
      "Epoch 5/10\n",
      "104/104 [==============================] - 8s 76ms/step - loss: 1.2401\n",
      "Epoch 6/10\n",
      "104/104 [==============================] - 8s 76ms/step - loss: 1.1967\n",
      "Epoch 7/10\n",
      "104/104 [==============================] - 8s 75ms/step - loss: 1.1128\n",
      "Epoch 8/10\n",
      "104/104 [==============================] - 8s 76ms/step - loss: 1.0462\n",
      "Epoch 9/10\n",
      "104/104 [==============================] - 8s 79ms/step - loss: 0.9725\n",
      "Epoch 10/10\n",
      "104/104 [==============================] - 8s 78ms/step - loss: 0.9254\n"
     ]
    },
    {
     "data": {
      "text/plain": [
       "<keras.callbacks.History at 0x7f8b7f4beda0>"
      ]
     },
     "execution_count": 142,
     "metadata": {},
     "output_type": "execute_result"
    }
   ],
   "source": [
    "model.fit(X, y, epochs=10)"
   ]
  },
  {
   "cell_type": "code",
   "execution_count": null,
   "id": "d5274695",
   "metadata": {},
   "outputs": [],
   "source": []
  },
  {
   "cell_type": "code",
   "execution_count": 143,
   "id": "ff91360a",
   "metadata": {},
   "outputs": [],
   "source": [
    "new_corpus = np.array(['A4', '0.4.7', 'E3', 'F3', 'G3'])"
   ]
  },
  {
   "cell_type": "code",
   "execution_count": 144,
   "id": "ade243f3",
   "metadata": {},
   "outputs": [],
   "source": [
    "new_corpus = np.reshape(new_corpus, (len(new_corpus), 1))"
   ]
  },
  {
   "cell_type": "code",
   "execution_count": 145,
   "id": "d43b4257",
   "metadata": {},
   "outputs": [
    {
     "data": {
      "text/plain": [
       "(5, 1)"
      ]
     },
     "execution_count": 145,
     "metadata": {},
     "output_type": "execute_result"
    }
   ],
   "source": [
    "new_corpus.shape"
   ]
  },
  {
   "cell_type": "code",
   "execution_count": 238,
   "id": "672caeb9",
   "metadata": {},
   "outputs": [],
   "source": [
    "one_hot_new_data = encoder.transform(new_corpus)\n",
    "one_hot_new_data = one_hot_new_data.toarray()"
   ]
  },
  {
   "cell_type": "code",
   "execution_count": 239,
   "id": "a248e847",
   "metadata": {},
   "outputs": [
    {
     "data": {
      "text/plain": [
       "(5, 164)"
      ]
     },
     "execution_count": 239,
     "metadata": {},
     "output_type": "execute_result"
    }
   ],
   "source": [
    "one_hot_new_data.shape"
   ]
  },
  {
   "cell_type": "code",
   "execution_count": 240,
   "id": "48e30c36",
   "metadata": {},
   "outputs": [],
   "source": [
    "def funkcija(broj):\n",
    "    if broj > 0.2:\n",
    "        return 1\n",
    "    else:\n",
    "        return 0"
   ]
  },
  {
   "cell_type": "code",
   "execution_count": 241,
   "id": "a2bc9b7f",
   "metadata": {},
   "outputs": [],
   "source": [
    "s = set({})"
   ]
  },
  {
   "cell_type": "code",
   "execution_count": 242,
   "id": "838511b2",
   "metadata": {},
   "outputs": [
    {
     "data": {
      "text/plain": [
       "True"
      ]
     },
     "execution_count": 242,
     "metadata": {},
     "output_type": "execute_result"
    }
   ],
   "source": [
    "1 == 1.0"
   ]
  },
  {
   "cell_type": "code",
   "execution_count": 243,
   "id": "1c3adda7",
   "metadata": {},
   "outputs": [],
   "source": [
    "def three_in_a_row(new_note, one_hot_new_data, i):\n",
    "    for j, _ in enumerate(new_note[0]):\n",
    "        if new_note[0][j] != one_hot_new_data[i-1][j] or new_note[0][j] != one_hot_new_data[i-2][j]:\n",
    "            return False\n",
    "    return True"
   ]
  },
  {
   "cell_type": "code",
   "execution_count": 244,
   "id": "d9202dc5",
   "metadata": {},
   "outputs": [],
   "source": [
    "#izbacio dmol (2,5,9)\n",
    "def choose_another_note(forbidden):\n",
    "    c_dur = set({'A3', 'B3', 'C3', 'D3', 'E3', 'F3', 'G3', '0.4.7','4.7.11', '5.9.0', '7.11.2', '9.0.4'})\n",
    "    if np.any(forbidden):\n",
    "        forbidden = np.reshape(forbidden, (1, -1))\n",
    "        forbidden = encoder.inverse_transform(forbidden)\n",
    "        c_dur_valid = c_dur.difference({forbidden[0][0]})\n",
    "    else:\n",
    "        c_dur_valid = c_dur\n",
    "    new_note = np.array([random.choice(list(c_dur_valid))])\n",
    "    new_note = np.reshape(new_note, (len(new_note), 1))\n",
    "\n",
    "    new_note = encoder.transform(new_note)\n",
    "    new_note = new_note.toarray()\n",
    "    \n",
    "    return new_note\n",
    "    \n",
    "    "
   ]
  },
  {
   "cell_type": "code",
   "execution_count": 245,
   "id": "9c0997b4",
   "metadata": {},
   "outputs": [],
   "source": [
    "def in_scale(new_note):\n",
    "    c_dur = set({'A3', 'B3', 'C3', 'D3', 'E3', 'F3', 'G3', '0.4.7','4.7.11', '5.9.0', '7.11.2', '9.0.4'})\n",
    "    if encoder.inverse_transform(new_note)[0][0] not in c_dur:\n",
    "        return False\n",
    "    return True"
   ]
  },
  {
   "cell_type": "code",
   "execution_count": 246,
   "id": "dd28d852",
   "metadata": {},
   "outputs": [
    {
     "data": {
      "text/plain": [
       "(5, 164)"
      ]
     },
     "execution_count": 246,
     "metadata": {},
     "output_type": "execute_result"
    }
   ],
   "source": [
    "one_hot_new_data.shape"
   ]
  },
  {
   "cell_type": "code",
   "execution_count": 247,
   "id": "c3f6760e",
   "metadata": {},
   "outputs": [],
   "source": [
    "i = input_len"
   ]
  },
  {
   "cell_type": "code",
   "execution_count": 248,
   "id": "8c068878",
   "metadata": {},
   "outputs": [
    {
     "name": "stdout",
     "output_type": "stream",
     "text": [
      "1/1 [==============================] - 0s 38ms/step\n",
      "1/1 [==============================] - 0s 27ms/step\n",
      "1/1 [==============================] - 0s 28ms/step\n",
      "1/1 [==============================] - 0s 28ms/step\n",
      "1/1 [==============================] - 0s 27ms/step\n",
      "1/1 [==============================] - 0s 29ms/step\n",
      "1/1 [==============================] - 0s 27ms/step\n",
      "1/1 [==============================] - 0s 26ms/step\n",
      "1/1 [==============================] - 0s 27ms/step\n",
      "1/1 [==============================] - 0s 26ms/step\n",
      "1/1 [==============================] - 0s 27ms/step\n",
      "1/1 [==============================] - 0s 27ms/step\n",
      "1/1 [==============================] - 0s 36ms/step\n",
      "1/1 [==============================] - 0s 31ms/step\n",
      "1/1 [==============================] - 0s 31ms/step\n",
      "1/1 [==============================] - 0s 27ms/step\n",
      "1/1 [==============================] - 0s 29ms/step\n",
      "1/1 [==============================] - 0s 41ms/step\n",
      "1/1 [==============================] - 0s 35ms/step\n",
      "1/1 [==============================] - 0s 37ms/step\n",
      "1/1 [==============================] - 0s 38ms/step\n",
      "1/1 [==============================] - 0s 28ms/step\n",
      "1/1 [==============================] - 0s 30ms/step\n",
      "1/1 [==============================] - 0s 35ms/step\n",
      "1/1 [==============================] - 0s 35ms/step\n",
      "1/1 [==============================] - 0s 35ms/step\n",
      "1/1 [==============================] - 0s 27ms/step\n",
      "1/1 [==============================] - 0s 30ms/step\n",
      "1/1 [==============================] - 0s 30ms/step\n",
      "1/1 [==============================] - 0s 27ms/step\n",
      "1/1 [==============================] - 0s 28ms/step\n",
      "1/1 [==============================] - 0s 27ms/step\n",
      "1/1 [==============================] - 0s 27ms/step\n",
      "1/1 [==============================] - 0s 30ms/step\n",
      "1/1 [==============================] - 0s 30ms/step\n",
      "1/1 [==============================] - 0s 27ms/step\n",
      "1/1 [==============================] - 0s 35ms/step\n",
      "1/1 [==============================] - 0s 34ms/step\n",
      "1/1 [==============================] - 0s 29ms/step\n",
      "1/1 [==============================] - 0s 29ms/step\n",
      "1/1 [==============================] - 0s 27ms/step\n",
      "1/1 [==============================] - 0s 30ms/step\n",
      "1/1 [==============================] - 0s 30ms/step\n",
      "1/1 [==============================] - 0s 35ms/step\n",
      "1/1 [==============================] - 0s 33ms/step\n",
      "1/1 [==============================] - 0s 27ms/step\n",
      "1/1 [==============================] - 0s 45ms/step\n",
      "1/1 [==============================] - 0s 32ms/step\n",
      "1/1 [==============================] - 0s 38ms/step\n",
      "1/1 [==============================] - 0s 37ms/step\n",
      "1/1 [==============================] - 0s 28ms/step\n",
      "1/1 [==============================] - 0s 31ms/step\n",
      "1/1 [==============================] - 0s 31ms/step\n",
      "1/1 [==============================] - 0s 26ms/step\n",
      "1/1 [==============================] - 0s 30ms/step\n",
      "1/1 [==============================] - 0s 32ms/step\n",
      "1/1 [==============================] - 0s 29ms/step\n",
      "1/1 [==============================] - 0s 31ms/step\n",
      "1/1 [==============================] - 0s 36ms/step\n",
      "1/1 [==============================] - 0s 34ms/step\n",
      "1/1 [==============================] - 0s 27ms/step\n",
      "1/1 [==============================] - 0s 27ms/step\n",
      "1/1 [==============================] - 0s 27ms/step\n",
      "1/1 [==============================] - 0s 29ms/step\n",
      "1/1 [==============================] - 0s 36ms/step\n",
      "1/1 [==============================] - 0s 35ms/step\n",
      "1/1 [==============================] - 0s 28ms/step\n",
      "1/1 [==============================] - 0s 29ms/step\n",
      "1/1 [==============================] - 0s 31ms/step\n",
      "1/1 [==============================] - 0s 28ms/step\n",
      "1/1 [==============================] - 0s 32ms/step\n",
      "1/1 [==============================] - 0s 28ms/step\n",
      "1/1 [==============================] - 0s 27ms/step\n",
      "1/1 [==============================] - 0s 27ms/step\n",
      "1/1 [==============================] - 0s 30ms/step\n",
      "1/1 [==============================] - 0s 35ms/step\n",
      "1/1 [==============================] - 0s 39ms/step\n",
      "1/1 [==============================] - 0s 31ms/step\n",
      "1/1 [==============================] - 0s 28ms/step\n",
      "1/1 [==============================] - 0s 30ms/step\n",
      "1/1 [==============================] - 0s 32ms/step\n",
      "1/1 [==============================] - 0s 29ms/step\n",
      "1/1 [==============================] - 0s 34ms/step\n",
      "1/1 [==============================] - 0s 35ms/step\n",
      "1/1 [==============================] - 0s 32ms/step\n",
      "1/1 [==============================] - 0s 36ms/step\n",
      "1/1 [==============================] - 0s 37ms/step\n",
      "1/1 [==============================] - 0s 29ms/step\n",
      "1/1 [==============================] - 0s 36ms/step\n",
      "1/1 [==============================] - 0s 28ms/step\n",
      "1/1 [==============================] - 0s 27ms/step\n",
      "1/1 [==============================] - 0s 28ms/step\n",
      "1/1 [==============================] - 0s 30ms/step\n",
      "1/1 [==============================] - 0s 32ms/step\n",
      "1/1 [==============================] - 0s 28ms/step\n",
      "1/1 [==============================] - 0s 28ms/step\n",
      "1/1 [==============================] - 0s 29ms/step\n",
      "1/1 [==============================] - 0s 29ms/step\n",
      "1/1 [==============================] - 0s 28ms/step\n",
      "1/1 [==============================] - 0s 30ms/step\n",
      "1/1 [==============================] - 0s 27ms/step\n",
      "1/1 [==============================] - 0s 26ms/step\n",
      "1/1 [==============================] - 0s 36ms/step\n",
      "1/1 [==============================] - 0s 28ms/step\n",
      "1/1 [==============================] - 0s 28ms/step\n",
      "1/1 [==============================] - 0s 31ms/step\n",
      "1/1 [==============================] - 0s 29ms/step\n"
     ]
    }
   ],
   "source": [
    "while i < 112:\n",
    "    new_note = model.predict(np.reshape(one_hot_new_data[i-input_len:i], (1, input_len, one_hot_data.shape[1])))\n",
    "    new_note = np.array(list(map(funkcija, new_note[0])))\n",
    "    new_note = np.reshape(new_note, (1, one_hot_data.shape[1]))\n",
    "    \n",
    "    while three_in_a_row(new_note, one_hot_new_data, i) or not np.any(new_note[0]) or not in_scale(new_note):\n",
    "        new_note = choose_another_note(new_note[0])\n",
    "        new_note = np.reshape(new_note, (1, one_hot_data.shape[1]))\n",
    "    one_hot_new_data = np.append(one_hot_new_data, new_note, axis=0)\n",
    "    i += 1\n",
    "\n"
   ]
  },
  {
   "cell_type": "code",
   "execution_count": 249,
   "id": "8c8e3bc6",
   "metadata": {},
   "outputs": [],
   "source": [
    "one_hot_new_data = encoder.inverse_transform(one_hot_new_data)"
   ]
  },
  {
   "cell_type": "code",
   "execution_count": 250,
   "id": "53f38b9b",
   "metadata": {},
   "outputs": [
    {
     "data": {
      "text/plain": [
       "array([['A4'],\n",
       "       ['0.4.7'],\n",
       "       ['E3'],\n",
       "       ['F3'],\n",
       "       ['G3'],\n",
       "       ['7.11.2'],\n",
       "       ['G3'],\n",
       "       ['C3'],\n",
       "       ['C3'],\n",
       "       ['E3'],\n",
       "       ['A3'],\n",
       "       ['A3'],\n",
       "       ['A3'],\n",
       "       ['A3'],\n",
       "       ['A3'],\n",
       "       ['A3'],\n",
       "       ['A3'],\n",
       "       ['F3'],\n",
       "       ['A3'],\n",
       "       ['A3'],\n",
       "       ['4.7.11'],\n",
       "       ['A3'],\n",
       "       ['7.11.2'],\n",
       "       ['5.9.0'],\n",
       "       ['G3'],\n",
       "       ['4.7.11'],\n",
       "       ['D3'],\n",
       "       ['9.0.4'],\n",
       "       ['G3'],\n",
       "       ['9.0.4'],\n",
       "       ['9.0.4'],\n",
       "       ['C3'],\n",
       "       ['G3'],\n",
       "       ['7.11.2'],\n",
       "       ['0.4.7'],\n",
       "       ['0.4.7'],\n",
       "       ['9.0.4'],\n",
       "       ['9.0.4'],\n",
       "       ['0.4.7'],\n",
       "       ['5.9.0'],\n",
       "       ['0.4.7'],\n",
       "       ['0.4.7'],\n",
       "       ['0.4.7'],\n",
       "       ['5.9.0'],\n",
       "       ['5.9.0'],\n",
       "       ['F3'],\n",
       "       ['5.9.0'],\n",
       "       ['7.11.2'],\n",
       "       ['7.11.2'],\n",
       "       ['D3'],\n",
       "       ['9.0.4'],\n",
       "       ['9.0.4'],\n",
       "       ['0.4.7'],\n",
       "       ['0.4.7'],\n",
       "       ['0.4.7'],\n",
       "       ['0.4.7'],\n",
       "       ['5.9.0'],\n",
       "       ['5.9.0'],\n",
       "       ['4.7.11'],\n",
       "       ['5.9.0'],\n",
       "       ['7.11.2'],\n",
       "       ['7.11.2'],\n",
       "       ['5.9.0'],\n",
       "       ['9.0.4'],\n",
       "       ['9.0.4'],\n",
       "       ['D3'],\n",
       "       ['7.11.2'],\n",
       "       ['7.11.2'],\n",
       "       ['0.4.7'],\n",
       "       ['0.4.7'],\n",
       "       ['9.0.4'],\n",
       "       ['0.4.7'],\n",
       "       ['9.0.4'],\n",
       "       ['0.4.7'],\n",
       "       ['0.4.7'],\n",
       "       ['0.4.7'],\n",
       "       ['5.9.0'],\n",
       "       ['5.9.0'],\n",
       "       ['D3'],\n",
       "       ['5.9.0'],\n",
       "       ['7.11.2'],\n",
       "       ['7.11.2'],\n",
       "       ['0.4.7'],\n",
       "       ['9.0.4'],\n",
       "       ['9.0.4'],\n",
       "       ['A3'],\n",
       "       ['0.4.7'],\n",
       "       ['0.4.7'],\n",
       "       ['0.4.7'],\n",
       "       ['B3'],\n",
       "       ['5.9.0'],\n",
       "       ['5.9.0'],\n",
       "       ['0.4.7'],\n",
       "       ['5.9.0'],\n",
       "       ['5.9.0'],\n",
       "       ['7.11.2'],\n",
       "       ['7.11.2'],\n",
       "       ['C3'],\n",
       "       ['7.11.2'],\n",
       "       ['9.0.4'],\n",
       "       ['9.0.4'],\n",
       "       ['G3'],\n",
       "       ['9.0.4'],\n",
       "       ['0.4.7'],\n",
       "       ['0.4.7'],\n",
       "       ['9.0.4'],\n",
       "       ['0.4.7'],\n",
       "       ['5.9.0'],\n",
       "       ['5.9.0'],\n",
       "       ['7.11.2'],\n",
       "       ['5.9.0'],\n",
       "       ['7.11.2']], dtype='<U9')"
      ]
     },
     "execution_count": 250,
     "metadata": {},
     "output_type": "execute_result"
    }
   ],
   "source": [
    "one_hot_new_data"
   ]
  },
  {
   "cell_type": "code",
   "execution_count": 251,
   "id": "1ebb2af7",
   "metadata": {},
   "outputs": [
    {
     "data": {
      "text/plain": [
       "(112, 1)"
      ]
     },
     "execution_count": 251,
     "metadata": {},
     "output_type": "execute_result"
    }
   ],
   "source": [
    "one_hot_new_data.shape"
   ]
  },
  {
   "cell_type": "code",
   "execution_count": 252,
   "id": "1364280e",
   "metadata": {},
   "outputs": [],
   "source": [
    "def chords_n_notes(Snippet):\n",
    "    Melody = []\n",
    "    offset = 0 #Incremental\n",
    "    for i in Snippet:\n",
    "        #If it is chord\n",
    "        if (\".\" in i or i.isdigit()):\n",
    "            chord_notes = i.split(\".\") #Seperating the notes in chord\n",
    "            notes = [] \n",
    "            for j in chord_notes:\n",
    "                inst_note=int(j)\n",
    "                note_snip = note.Note(inst_note)            \n",
    "                notes.append(note_snip)\n",
    "                chord_snip = chord.Chord(notes)\n",
    "                chord_snip.offset = offset\n",
    "                Melody.append(chord_snip)\n",
    "        # pattern is a note\n",
    "        else: \n",
    "            note_snip = note.Note(i)\n",
    "            note_snip.offset = offset\n",
    "            Melody.append(note_snip)\n",
    "        # increase offset each iteration so that notes do not stack\n",
    "        offset += 1\n",
    "    Melody_midi = stream.Stream(Melody)   \n",
    "    return Melody_midi"
   ]
  },
  {
   "cell_type": "code",
   "execution_count": 253,
   "id": "c9e4d205",
   "metadata": {},
   "outputs": [],
   "source": [
    "Melody = chords_n_notes(one_hot_new_data.reshape(112, ))"
   ]
  },
  {
   "cell_type": "code",
   "execution_count": 254,
   "id": "5550876a",
   "metadata": {},
   "outputs": [],
   "source": [
    "Melody_midy = stream.Stream(Melody)"
   ]
  },
  {
   "cell_type": "code",
   "execution_count": 255,
   "id": "3d268638",
   "metadata": {},
   "outputs": [
    {
     "data": {
      "text/plain": [
       "'Melody_Generated_Better1.mid'"
      ]
     },
     "execution_count": 255,
     "metadata": {},
     "output_type": "execute_result"
    }
   ],
   "source": [
    "Melody.write('midi','Melody_Generated_Better1.mid')"
   ]
  },
  {
   "cell_type": "code",
   "execution_count": 212,
   "id": "d782f6e1",
   "metadata": {},
   "outputs": [
    {
     "name": "stdout",
     "output_type": "stream",
     "text": [
      "Sample Audio From Data\n"
     ]
    },
    {
     "ename": "ValueError",
     "evalue": "rate must be specified when data is a numpy array or list of audio samples.",
     "output_type": "error",
     "traceback": [
      "\u001b[0;31m---------------------------------------------------------------------------\u001b[0m",
      "\u001b[0;31mValueError\u001b[0m                                Traceback (most recent call last)",
      "Cell \u001b[0;32mIn[212], line 2\u001b[0m\n\u001b[1;32m      1\u001b[0m \u001b[38;5;28mprint\u001b[39m(\u001b[38;5;124m\"\u001b[39m\u001b[38;5;124mSample Audio From Data\u001b[39m\u001b[38;5;124m\"\u001b[39m)\n\u001b[0;32m----> 2\u001b[0m \u001b[43mIPython\u001b[49m\u001b[38;5;241;43m.\u001b[39;49m\u001b[43mdisplay\u001b[49m\u001b[38;5;241;43m.\u001b[39;49m\u001b[43mAudio\u001b[49m\u001b[43m(\u001b[49m\u001b[38;5;124;43m\"\u001b[39;49m\u001b[38;5;124;43mMelody_Generated.mid\u001b[39;49m\u001b[38;5;124;43m\"\u001b[39;49m\u001b[43m)\u001b[49m \n",
      "File \u001b[0;32m~/.local/lib/python3.10/site-packages/IPython/lib/display.py:129\u001b[0m, in \u001b[0;36mAudio.__init__\u001b[0;34m(self, data, filename, url, embed, rate, autoplay, normalize, element_id)\u001b[0m\n\u001b[1;32m    127\u001b[0m \u001b[38;5;28;01mif\u001b[39;00m \u001b[38;5;28mself\u001b[39m\u001b[38;5;241m.\u001b[39mdata \u001b[38;5;129;01mis\u001b[39;00m \u001b[38;5;129;01mnot\u001b[39;00m \u001b[38;5;28;01mNone\u001b[39;00m \u001b[38;5;129;01mand\u001b[39;00m \u001b[38;5;129;01mnot\u001b[39;00m \u001b[38;5;28misinstance\u001b[39m(\u001b[38;5;28mself\u001b[39m\u001b[38;5;241m.\u001b[39mdata, \u001b[38;5;28mbytes\u001b[39m):\n\u001b[1;32m    128\u001b[0m     \u001b[38;5;28;01mif\u001b[39;00m rate \u001b[38;5;129;01mis\u001b[39;00m \u001b[38;5;28;01mNone\u001b[39;00m:\n\u001b[0;32m--> 129\u001b[0m         \u001b[38;5;28;01mraise\u001b[39;00m \u001b[38;5;167;01mValueError\u001b[39;00m(\u001b[38;5;124m\"\u001b[39m\u001b[38;5;124mrate must be specified when data is a numpy array or list of audio samples.\u001b[39m\u001b[38;5;124m\"\u001b[39m)\n\u001b[1;32m    130\u001b[0m     \u001b[38;5;28mself\u001b[39m\u001b[38;5;241m.\u001b[39mdata \u001b[38;5;241m=\u001b[39m Audio\u001b[38;5;241m.\u001b[39m_make_wav(data, rate, normalize)\n",
      "\u001b[0;31mValueError\u001b[0m: rate must be specified when data is a numpy array or list of audio samples."
     ]
    }
   ],
   "source": [
    "print(\"Sample Audio From Data\")\n",
    "IPython.display.Audio(\"Melody_Generated.mid\") \n"
   ]
  },
  {
   "cell_type": "code",
   "execution_count": null,
   "id": "70957bce",
   "metadata": {},
   "outputs": [],
   "source": []
  }
 ],
 "metadata": {
  "kernelspec": {
   "display_name": "Python 3 (ipykernel)",
   "language": "python",
   "name": "python3"
  },
  "language_info": {
   "codemirror_mode": {
    "name": "ipython",
    "version": 3
   },
   "file_extension": ".py",
   "mimetype": "text/x-python",
   "name": "python",
   "nbconvert_exporter": "python",
   "pygments_lexer": "ipython3",
   "version": "3.10.6"
  }
 },
 "nbformat": 4,
 "nbformat_minor": 5
}
